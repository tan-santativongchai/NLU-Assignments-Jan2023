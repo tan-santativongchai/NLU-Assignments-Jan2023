{
 "cells": [
  {
   "cell_type": "markdown",
   "id": "cc315cf1-28a7-4bf9-8942-2db41c3c8a6e",
   "metadata": {
    "tags": []
   },
   "source": [
    "# GloVe (Assignment)\n",
    "\n",
    "Assignment Instruction\n",
    "\n",
    "Constraint: Only use our code (not other code....)\n",
    "\n",
    "1. I guess you already try a bigger corpus\n",
    "2. I guess you already try window size 2\n",
    "3. I guess you already have skipgram, skipgram(neg), cbow, glove\n",
    "\n",
    "Do this:\n",
    "1. Compare them based on syntactic accuracy and semantic accuracy, similar to how is done in https://nlp.stanford.edu/pubs/glove.pdf (see Table 2) - NO NEED to try 1000 or 300 embed size.....I just want you to learn how to do experiment.....\n",
    "2. Try to find a correlation with just ONE similarity dataset (which humans judge how similar is two words.....)\n",
    "\n",
    "Point criteria:\n",
    "0:  Not done\n",
    "1: ok\n",
    "2: with comments / explanation / figures just like how Chaky explain thing....."
   ]
  },
  {
   "cell_type": "markdown",
   "id": "06832538-50aa-4cb0-aab7-47674e9aec68",
   "metadata": {},
   "source": [
    "I will use same assignment 1 based. (Only add GloVe and compare)"
   ]
  },
  {
   "cell_type": "code",
   "execution_count": 1,
   "id": "7f8c1012-f7eb-4a04-ba3a-5d6553ea50ad",
   "metadata": {},
   "outputs": [],
   "source": [
    "import numpy as np\n",
    "import torch\n",
    "import torch.nn as nn\n",
    "import torch.optim as optim\n",
    "import matplotlib.pyplot as plt\n",
    "import spacy\n",
    "import time"
   ]
  },
  {
   "cell_type": "code",
   "execution_count": 2,
   "id": "f2ca7235-30fc-456a-9312-6bbed9530087",
   "metadata": {},
   "outputs": [],
   "source": [
    "def epoch_time(start_time, end_time):\n",
    "    elapsed_time = end_time - start_time\n",
    "    elapsed_mins = int(elapsed_time / 60)\n",
    "    elapsed_secs = int(elapsed_time - (elapsed_mins * 60))\n",
    "    return elapsed_mins, elapsed_secs"
   ]
  },
  {
   "cell_type": "markdown",
   "id": "3689848b-ef94-482f-9dd0-0652e1e60cd2",
   "metadata": {},
   "source": [
    "### 1. Load data"
   ]
  },
  {
   "cell_type": "code",
   "execution_count": 3,
   "id": "a41db260-1b01-42c1-9a32-29bc65710f00",
   "metadata": {},
   "outputs": [],
   "source": [
    "# Load tokeniser from SpaCy. I will use only small version.\n",
    "\n",
    "tokeniser = spacy.load(\"en_core_web_sm\")"
   ]
  },
  {
   "cell_type": "code",
   "execution_count": 4,
   "id": "5b67071d-6fdc-48d3-b33c-ea4056547d2e",
   "metadata": {},
   "outputs": [
    {
     "name": "stdout",
     "output_type": "stream",
     "text": [
      "[': capital-common-countries', 'Athens Greece Baghdad Iraq', 'Athens Greece Bangkok Thailand', 'Athens Greece Beijing China', 'Athens Greece Berlin Germany']\n"
     ]
    }
   ],
   "source": [
    "#define corpus //I will use data that posted in classroom one.\n",
    "\n",
    "corpus = []\n",
    "\n",
    "with open('questions-words.txt') as f:\n",
    "    while True:\n",
    "        line = f.readline()\n",
    "        if not line:\n",
    "            break\n",
    "        corpus.append(line.strip())\n",
    "print(corpus[:5])\n",
    "corpus_tokenised = []\n",
    "for i in range(len(corpus)):\n",
    "    corpus_tokenised.append([str(token) for token in tokeniser([c for c in corpus][i])])"
   ]
  },
  {
   "cell_type": "code",
   "execution_count": 5,
   "id": "00f7f809-e735-4e1c-b2ba-28b1444b2518",
   "metadata": {},
   "outputs": [
    {
     "data": {
      "text/plain": [
       "59"
      ]
     },
     "execution_count": 5,
     "metadata": {},
     "output_type": "execute_result"
    }
   ],
   "source": [
    "#delete dupliAthense word define as vocabs, also include unknow as <UNK>.\n",
    "flatten = lambda l: [item for sublist in l for item in sublist]\n",
    "vocabs  = list(set(flatten(corpus_tokenised)))\n",
    "vocabs.append('<UNK>') # to let '<UNK>' become the last.\n",
    "word2index = {v: idx+1 for idx, v in enumerate(vocabs)} #plus one to shift value in word index to assign <UNK>'s value to 0 without dupliAthension with others.\n",
    "word2index['<UNK>'] = 0\n",
    "\n",
    "#Let check word to index's value\n",
    "word2index[\"Athens\"]"
   ]
  },
  {
   "cell_type": "code",
   "execution_count": 6,
   "id": "4934c2dc-6e6d-49fc-a38b-e5fea886ed4b",
   "metadata": {},
   "outputs": [
    {
     "data": {
      "text/plain": [
       "'harder'"
      ]
     },
     "execution_count": 6,
     "metadata": {},
     "output_type": "execute_result"
    }
   ],
   "source": [
    "# Create index to word\n",
    "index2word = {v:k for k, v in word2index.items()}\n",
    "\n",
    "index2word[50]"
   ]
  },
  {
   "cell_type": "markdown",
   "id": "19715136-4470-4bff-8035-9a9a84206679",
   "metadata": {
    "tags": []
   },
   "source": [
    "### 2. Prepare train data"
   ]
  },
  {
   "cell_type": "code",
   "execution_count": 7,
   "id": "839cb11d-4e10-49d4-9a79-7a98014545e9",
   "metadata": {},
   "outputs": [
    {
     "data": {
      "text/plain": [
       "[['-', ':'],\n",
       " ['-', 'capital'],\n",
       " ['-', 'common'],\n",
       " ['-', '-'],\n",
       " ['common', 'capital'],\n",
       " ['common', '-'],\n",
       " ['common', '-'],\n",
       " ['common', 'countries'],\n",
       " ['-', ':'],\n",
       " ['-', 'city'],\n",
       " ['-', 'in'],\n",
       " ['-', '-'],\n",
       " ['in', 'city'],\n",
       " ['in', '-'],\n",
       " ['in', '-'],\n",
       " ['in', 'state'],\n",
       " ['-', ':'],\n",
       " ['-', 'gram1'],\n",
       " ['-', 'adjective'],\n",
       " ['-', '-'],\n",
       " ['adjective', 'gram1'],\n",
       " ['adjective', '-'],\n",
       " ['adjective', '-'],\n",
       " ['adjective', 'to'],\n",
       " ['-', '-'],\n",
       " ['-', 'adjective'],\n",
       " ['-', 'to'],\n",
       " ['-', '-'],\n",
       " ['to', 'adjective'],\n",
       " ['to', '-'],\n",
       " ['to', '-'],\n",
       " ['to', 'adverb'],\n",
       " ['-', ':'],\n",
       " ['-', 'gram5'],\n",
       " ['-', 'present'],\n",
       " ['-', '-'],\n",
       " ['present', 'gram5'],\n",
       " ['present', '-'],\n",
       " ['present', '-'],\n",
       " ['present', 'participle'],\n",
       " ['-', ':'],\n",
       " ['-', 'gram6'],\n",
       " ['-', 'nationality'],\n",
       " ['-', '-'],\n",
       " ['nationality', 'gram6'],\n",
       " ['nationality', '-'],\n",
       " ['nationality', '-'],\n",
       " ['nationality', 'adjective'],\n",
       " ['-', ':'],\n",
       " ['-', 'gram7']]"
      ]
     },
     "execution_count": 7,
     "metadata": {},
     "output_type": "execute_result"
    }
   ],
   "source": [
    "skipgrams = []\n",
    "\n",
    "#for each corpus\n",
    "for sent in corpus_tokenised:\n",
    "    #for each sent [\"apple\", \"banana\", \"fruit\"]\n",
    "    for i in range(2, len(sent) - 2): # start from 1 to second last but we use window size of 2, then first centre word should be at index 2\n",
    "        center_word = sent[i]\n",
    "        outside_words = np.ravel([sent[i - 2:i],sent[i+1: i + 3]])  # window_size = 2\n",
    "        for o in outside_words:\n",
    "            skipgrams.append([center_word, o])\n",
    "\n",
    "skipgrams[:50] #shows only sample 50 elements"
   ]
  },
  {
   "cell_type": "code",
   "execution_count": 8,
   "id": "0e442e68-4612-4bce-ac3d-cd52b65bb082",
   "metadata": {},
   "outputs": [],
   "source": [
    "def random_batch(batch_size, corpus):\n",
    "    \n",
    "    skipgrams = []\n",
    "\n",
    "    for sent in corpus:\n",
    "        for i in range(2, len(sent) - 2): #start from 2 to third last for window size = 2\n",
    "            centre_word = word2index[sent[i]]\n",
    "            outside_words = []\n",
    "            for j in np.ravel([sent[i - 2:i],sent[i + 1: i + 3]]):\n",
    "                outside_words.append(word2index[j])  #window_size = 2\n",
    "            for o in outside_words:\n",
    "                skipgrams.append([centre_word, o])\n",
    "                \n",
    "    #only get a batch, not the entire list\n",
    "    random_index = np.random.choice(range(len(skipgrams)), batch_size, replace=False)\n",
    "    #appending some list of inputs and labels\n",
    "    random_inputs, random_labels = [], []   \n",
    "    for index in random_index:\n",
    "        random_inputs.append([skipgrams[index][0]])  #center words, this will be a shape of (1, ) --> (1, 1) for modeling\n",
    "        random_labels.append([skipgrams[index][1]])\n",
    "        \n",
    "    return np.array(random_inputs), np.array(random_labels)"
   ]
  },
  {
   "cell_type": "code",
   "execution_count": 9,
   "id": "91df28c8-4579-4a75-95ac-e355ba35052b",
   "metadata": {},
   "outputs": [
    {
     "name": "stdout",
     "output_type": "stream",
     "text": [
      "(10, 1)\n",
      "label=array([[608],\n",
      "       [710],\n",
      "       [608],\n",
      "       [842],\n",
      "       [747],\n",
      "       [608],\n",
      "       [340],\n",
      "       [608],\n",
      "       [608],\n",
      "       [732]])\n"
     ]
    }
   ],
   "source": [
    "input, label = random_batch(10, corpus_tokenised)\n",
    "\n",
    "print(f\"{input.shape}\")\n",
    "print(f\"{label=}\")"
   ]
  },
  {
   "cell_type": "markdown",
   "id": "117023ba-2646-4604-9fe1-2d66d96b60bb",
   "metadata": {},
   "source": [
    "### 3. Unigram distribution\n",
    "\n",
    "$$P(w)=U(w)^{3/4}/Z$$\n",
    "\n",
    "Defining the probability of sampling negative words"
   ]
  },
  {
   "cell_type": "code",
   "execution_count": 10,
   "id": "ae427673-9360-4a92-a388-c349c5b79f73",
   "metadata": {},
   "outputs": [],
   "source": [
    "from collections import Counter\n",
    "\n",
    "word_count = Counter(flatten(corpus_tokenised))\n",
    "# word_count # Showing word count"
   ]
  },
  {
   "cell_type": "code",
   "execution_count": 11,
   "id": "9eb29e54-17f9-47e5-974d-47ef6a700f1d",
   "metadata": {},
   "outputs": [
    {
     "data": {
      "text/plain": [
       "78244"
      ]
     },
     "execution_count": 11,
     "metadata": {},
     "output_type": "execute_result"
    }
   ],
   "source": [
    "num_total_words = sum([c for w, c in word_count.items()])\n",
    "num_total_words"
   ]
  },
  {
   "cell_type": "code",
   "execution_count": 12,
   "id": "d36deb1a-d578-4439-9279-ad8f9a2c8fd2",
   "metadata": {},
   "outputs": [],
   "source": [
    "z = 0.001  #scaling up low frequency terms\n",
    "unigram_table = []\n",
    "\n",
    "# create loop for the P(w) formula\n",
    "for v in vocabs:\n",
    "    uw = word_count[v]/num_total_words\n",
    "    uw_alpha = uw ** (3/4)\n",
    "    uw_alpha_dividebyz = int(uw_alpha / z)\n",
    "    unigram_table.extend([v] * uw_alpha_dividebyz)\n",
    "    \n",
    "# Counter(unigram_table)"
   ]
  },
  {
   "cell_type": "markdown",
   "id": "0648a416-f885-46cb-bbbf-4464f3e738e9",
   "metadata": {},
   "source": [
    "### 4. Negative sampling"
   ]
  },
  {
   "cell_type": "code",
   "execution_count": 13,
   "id": "cc3179db-a5e4-4e09-aef2-b35dac97ee17",
   "metadata": {},
   "outputs": [],
   "source": [
    "def prepare_sequence(seq, word2index):\n",
    "    idxs = list(map(lambda w: word2index[w] if word2index.get(w) is not None else word2index[\"<UNK>\"], seq))\n",
    "    return torch.LongTensor(idxs)"
   ]
  },
  {
   "cell_type": "code",
   "execution_count": 14,
   "id": "1b3cb074-fd05-4223-a780-9adfc01470b3",
   "metadata": {},
   "outputs": [],
   "source": [
    "import random\n",
    "\n",
    "def negative_sampling(targets, unigram_table, k):\n",
    "    \n",
    "    batch_size = targets.shape[0]\n",
    "    neg_samples = []\n",
    "    \n",
    "    for i in range(batch_size):\n",
    "        #randomly pick k negative words from unigram_table\n",
    "        target_index = targets[i].item()  #looping each of the batch....\n",
    "        nsample = []\n",
    "        while len(nsample) < k:\n",
    "            neg = random.choice(unigram_table)\n",
    "            #if this word == target, skip this word\n",
    "            if word2index[neg] == target_index:\n",
    "                continue\n",
    "            nsample.append(neg)\n",
    "        #append this word to some list\n",
    "        neg_samples.append(prepare_sequence(nsample, word2index).reshape(1, -1))  #tensor[], tensor[]\n",
    "    return torch.cat(neg_samples)"
   ]
  },
  {
   "cell_type": "code",
   "execution_count": 15,
   "id": "6149da4a-00db-49f4-ba35-494e3e8aee72",
   "metadata": {},
   "outputs": [
    {
     "data": {
      "text/plain": [
       "(array([[608],\n",
       "        [713]]),\n",
       " array([[608],\n",
       "        [747]]))"
      ]
     },
     "execution_count": 15,
     "metadata": {},
     "output_type": "execute_result"
    }
   ],
   "source": [
    "batch_size = 2\n",
    "input_batch, label_batch = random_batch(batch_size, corpus_tokenised)\n",
    "\n",
    "input_batch, label_batch"
   ]
  },
  {
   "cell_type": "code",
   "execution_count": 16,
   "id": "d70845bb-5dcf-40a6-9ba6-78c57f395f89",
   "metadata": {},
   "outputs": [],
   "source": [
    "# Convert to Tensor\n",
    "\n",
    "input_batch = torch.LongTensor(input_batch)\n",
    "label_batch = torch.LongTensor(label_batch)"
   ]
  },
  {
   "cell_type": "code",
   "execution_count": 17,
   "id": "10459369-7b8d-4553-97d6-0f90cf452bab",
   "metadata": {},
   "outputs": [],
   "source": [
    "num_neg = 10  # I will try 10 as in the paper.\n",
    "neg_samples = negative_sampling(label_batch, unigram_table, num_neg)"
   ]
  },
  {
   "cell_type": "code",
   "execution_count": 18,
   "id": "0b451334-4325-4eca-9bb1-520ec01bdc68",
   "metadata": {},
   "outputs": [
    {
     "data": {
      "text/plain": [
       "torch.Size([2, 10])"
      ]
     },
     "execution_count": 18,
     "metadata": {},
     "output_type": "execute_result"
    }
   ],
   "source": [
    "neg_samples.shape # shape is (batch_size, num_neg)"
   ]
  },
  {
   "cell_type": "markdown",
   "id": "d39fc2fd-44bc-43a9-adc7-c1f9e79d50de",
   "metadata": {},
   "source": [
    "### 5. Model\n",
    "\n",
    "$$\\mathbf{J}_{\\text{neg-sample}}(\\mathbf{v}_c,o,\\mathbf{U})=-\\log(\\sigma(\\mathbf{u}_o^T\\mathbf{v}_c))-\\sum_{k=1}^K\\log(\\sigma(-\\mathbf{u}_k^T\\mathbf{v}_c))$$"
   ]
  },
  {
   "cell_type": "code",
   "execution_count": 19,
   "id": "517ecde4-fb1b-4337-a7a2-90202532ca39",
   "metadata": {},
   "outputs": [],
   "source": [
    "class SkipgramNeg(nn.Module):\n",
    "    \n",
    "    def __init__(self, voc_size, emb_size):\n",
    "        super(SkipgramNeg, self).__init__()\n",
    "        self.embedding_centre_word  = nn.Embedding(voc_size, emb_size)\n",
    "        self.embedding_outside_word = nn.Embedding(voc_size, emb_size)\n",
    "        self.logsigmoid = nn.LogSigmoid()\n",
    "        \n",
    "    def forward(self, centre_words, outside_words, negative_words):\n",
    "        #center_words, outside_words: (batch_size, 1)\n",
    "        #negative_words:  (batch_size, k)\n",
    "        \n",
    "        centre_embed  = self.embedding_centre_word(centre_words)    #(batch_size, 1, emb_size)\n",
    "        outside_embed = self.embedding_outside_word(outside_words)  #(batch_size, 1, emb_size)\n",
    "        neg_embed     = self.embedding_outside_word(negative_words) #(batch_size, k, emb_size)\n",
    "        \n",
    "        uovc          =  outside_embed.bmm(centre_embed.transpose(1, 2)).squeeze(2)  #(batch_size, 1)\n",
    "        ukvc          = -neg_embed.bmm(centre_embed.transpose(1, 2)).squeeze(2)  #(batch_size, k)\n",
    "        ukvc_sum      =  torch.sum(ukvc, 1).view(-1, 1) #(batch_size, 1)\n",
    "        \n",
    "        loss = self.logsigmoid(uovc) + self.logsigmoid(ukvc_sum)  #(batch_size, 1) + (batch_size, 1)\n",
    "                \n",
    "        return -torch.mean(loss)  #scalar, loss should be scalar, to call backward()"
   ]
  },
  {
   "cell_type": "code",
   "execution_count": 20,
   "id": "f71998dc-c5ae-4e10-bf7f-970e85907c19",
   "metadata": {},
   "outputs": [],
   "source": [
    "input, label = random_batch(batch_size, corpus_tokenised)\n",
    "input_tensor = torch.LongTensor(input)  \n",
    "label_tensor = torch.LongTensor(label)"
   ]
  },
  {
   "cell_type": "code",
   "execution_count": 21,
   "id": "f31d5d8f-7207-484c-88bc-5725c46ea151",
   "metadata": {},
   "outputs": [],
   "source": [
    "emb_size = 10 # I will try on 10.\n",
    "voc_size = len(vocabs)\n",
    "modelSkNeg = SkipgramNeg(voc_size, emb_size)"
   ]
  },
  {
   "cell_type": "code",
   "execution_count": 22,
   "id": "fa980b9f-c95b-493a-88a6-8824d1f1e0c6",
   "metadata": {},
   "outputs": [],
   "source": [
    "neg_tensor = negative_sampling(label_tensor, unigram_table, 5)"
   ]
  },
  {
   "cell_type": "code",
   "execution_count": 23,
   "id": "50be8f75-c0c5-41cf-b919-0641699bb5e8",
   "metadata": {},
   "outputs": [
    {
     "data": {
      "text/plain": [
       "(torch.Size([2, 1]), torch.Size([2, 1]))"
      ]
     },
     "execution_count": 23,
     "metadata": {},
     "output_type": "execute_result"
    }
   ],
   "source": [
    "input_tensor.shape, label_tensor.shape"
   ]
  },
  {
   "cell_type": "code",
   "execution_count": 24,
   "id": "af86775f-5adf-4a5d-bc34-f88bc71f6199",
   "metadata": {},
   "outputs": [
    {
     "data": {
      "text/plain": [
       "tensor(0.3627, grad_fn=<NegBackward0>)"
      ]
     },
     "execution_count": 24,
     "metadata": {},
     "output_type": "execute_result"
    }
   ],
   "source": [
    "loss = modelSkNeg(input_tensor, label_tensor, neg_tensor)\n",
    "loss"
   ]
  },
  {
   "cell_type": "markdown",
   "id": "af276ca9-f6ff-4c76-91c3-a23d13070342",
   "metadata": {},
   "source": [
    "### 4. Training"
   ]
  },
  {
   "cell_type": "code",
   "execution_count": 25,
   "id": "32c112ad-5625-43e7-8514-6f882e59b106",
   "metadata": {},
   "outputs": [],
   "source": [
    "voc_size   = len(vocabs)\n",
    "batch_size = 2\n",
    "emb_size   = 10\n",
    "modelSkNeg      = SkipgramNeg(voc_size, emb_size)\n",
    "\n",
    "optimizer  = optim.Adam(modelSkNeg.parameters(), lr=0.001)"
   ]
  },
  {
   "cell_type": "code",
   "execution_count": 26,
   "id": "a7508771-94d9-4185-821d-366ea8e98c24",
   "metadata": {},
   "outputs": [
    {
     "name": "stdout",
     "output_type": "stream",
     "text": [
      "Epoch 1000 | Loss: 0.002662 | Time: 0m 0s\n",
      "Epoch 2000 | Loss: 0.000000 | Time: 0m 0s\n",
      "Epoch 3000 | Loss: 0.000000 | Time: 0m 0s\n",
      "Epoch 4000 | Loss: 0.000000 | Time: 0m 0s\n",
      "Epoch 5000 | Loss: 0.000000 | Time: 0m 0s\n",
      "Process Time: 0m 46s\n"
     ]
    }
   ],
   "source": [
    "num_epochs = 5000\n",
    "startp = time.time()\n",
    "for epoch in range(num_epochs):\n",
    "\n",
    "    #get random batch\n",
    "    start = time.time()\n",
    "    input_batch, label_batch = random_batch(batch_size, corpus_tokenised)\n",
    "    input_batch = torch.LongTensor(input_batch)\n",
    "    label_batch = torch.LongTensor(label_batch)\n",
    "    neg_batch   = negative_sampling(label_batch, unigram_table, 5)    \n",
    "    \n",
    "    #loss = modelSkNeg\n",
    "    loss = modelSkNeg(input_batch, label_batch, neg_batch)\n",
    "    \n",
    "    end = time.time()\n",
    "    \n",
    "    epoch_mins, epoch_secs = epoch_time(start, end)\n",
    "    #backpropagate\n",
    "    loss.backward()\n",
    "    \n",
    "    #update alpha\n",
    "    optimizer.step()\n",
    "    \n",
    "    #print epoch loss\n",
    "    if (epoch + 1) % 1000 == 0:\n",
    "        print(f\"Epoch {epoch+1} | Loss: {loss:.6f} | Time: {epoch_mins}m {epoch_secs}s\")\n",
    "endp = time.time()\n",
    "mins, secs = epoch_time(startp, endp)\n",
    "print(f\"Process Time: {mins}m {secs}s\")"
   ]
  },
  {
   "cell_type": "markdown",
   "id": "52971237-11bd-47a0-b6be-7bf53a5ddb66",
   "metadata": {},
   "source": [
    "### 5. Plot the embeddings"
   ]
  },
  {
   "cell_type": "code",
   "execution_count": 27,
   "id": "b6980cec-2e17-45a3-973f-12e099b0b0bd",
   "metadata": {},
   "outputs": [
    {
     "data": {
      "text/plain": [
       "tensor([59])"
      ]
     },
     "execution_count": 27,
     "metadata": {},
     "output_type": "execute_result"
    }
   ],
   "source": [
    "Athens = torch.LongTensor([word2index['Athens']])\n",
    "Athens"
   ]
  },
  {
   "cell_type": "code",
   "execution_count": 28,
   "id": "1bbb495d-9ab1-40bf-9a2f-8a3ca80afb6c",
   "metadata": {},
   "outputs": [
    {
     "data": {
      "text/plain": [
       "tensor([[-2.3589, -2.9173,  1.4287, -1.5105, -4.0324, -1.5304,  1.0376,  2.3497,\n",
       "         -1.8660,  0.8379]], grad_fn=<DivBackward0>)"
      ]
     },
     "execution_count": 28,
     "metadata": {},
     "output_type": "execute_result"
    }
   ],
   "source": [
    "Athens_centre_embed = modelSkNeg.embedding_centre_word(Athens)\n",
    "Athens_outside_embed = modelSkNeg.embedding_outside_word(Athens)\n",
    "\n",
    "Athens_embed = (Athens_centre_embed + Athens_outside_embed) / 2\n",
    "Athens_embed"
   ]
  },
  {
   "cell_type": "code",
   "execution_count": 29,
   "id": "715018f5-7c04-464b-b49c-f35f44f182ba",
   "metadata": {},
   "outputs": [],
   "source": [
    "def get_embed(word):\n",
    "    try:\n",
    "        index = word2index[word]\n",
    "    except:\n",
    "        index = word2index['<UNK>']\n",
    "    \n",
    "    word = torch.LongTensor([index])\n",
    "\n",
    "    center_embed  = modelSkNeg.embedding_centre_word(word)\n",
    "    outside_embed = modelSkNeg.embedding_outside_word(word)\n",
    "    \n",
    "    embed = (center_embed + outside_embed) / 2\n",
    "    \n",
    "    return  embed[0][0].item(), embed[0][1].item()"
   ]
  },
  {
   "cell_type": "code",
   "execution_count": 30,
   "id": "64b8c148-8200-4752-b48d-aba4de3d0d53",
   "metadata": {},
   "outputs": [
    {
     "name": "stdout",
     "output_type": "stream",
     "text": [
      "(-2.358924388885498, -2.917296886444092)\n"
     ]
    }
   ],
   "source": [
    "print(get_embed('Athens'))"
   ]
  },
  {
   "cell_type": "code",
   "execution_count": 31,
   "id": "ba766811-2269-4c01-a3df-872c7056ae41",
   "metadata": {},
   "outputs": [
    {
     "data": {
      "image/png": "[encoded data removed]",
      "text/plain": [
       "<Figure size 432x216 with 1 Axes>"
      ]
     },
     "metadata": {
      "needs_background": "light"
     },
     "output_type": "display_data"
    }
   ],
   "source": [
    "plt.figure(figsize=(6,3))\n",
    "for i, word in enumerate(vocabs[:20]): #loop each unique vocab\n",
    "    x, y = get_embed(word)\n",
    "    plt.scatter(x, y)\n",
    "    plt.annotate(word, xy=(x, y), xytext=(5, 2), textcoords='offset points')\n",
    "plt.show()"
   ]
  },
  {
   "cell_type": "markdown",
   "id": "c350eda7-ffac-4f9b-a52c-5ca0c25724a1",
   "metadata": {},
   "source": [
    "### 6. Try on CBOW"
   ]
  },
  {
   "cell_type": "code",
   "execution_count": 32,
   "id": "82df03b3-051f-4cc6-a411-e9e5c3c3ff12",
   "metadata": {},
   "outputs": [
    {
     "data": {
      "text/plain": [
       "59"
      ]
     },
     "execution_count": 32,
     "metadata": {},
     "output_type": "execute_result"
    }
   ],
   "source": [
    "#delete dupliAthense word define as vocabs, also include unknow as <UNK>.\n",
    "flatten = lambda l: [item for sublist in l for item in sublist]\n",
    "vocabs  = list(set(flatten(corpus_tokenised)))\n",
    "vocabs.append('<UNK>') # to let '<UNK>' become the last.\n",
    "word2index = {v: idx+1 for idx, v in enumerate(vocabs)} #plus one to shift value in word index to assign <UNK>'s value to 0 without dupliAthension with others.\n",
    "word2index['<UNK>'] = 0\n",
    "\n",
    "#Let check word to index's value\n",
    "word2index[\"Athens\"]"
   ]
  },
  {
   "cell_type": "code",
   "execution_count": 33,
   "id": "b78fa9b0-c725-40ac-a799-e1ee533b4123",
   "metadata": {},
   "outputs": [
    {
     "data": {
      "text/plain": [
       "'harder'"
      ]
     },
     "execution_count": 33,
     "metadata": {},
     "output_type": "execute_result"
    }
   ],
   "source": [
    "# Create index to word\n",
    "index2word = {v:k for k, v in word2index.items()}\n",
    "\n",
    "index2word[50]"
   ]
  },
  {
   "cell_type": "markdown",
   "id": "116b4bae-9afc-4cde-b332-799b6e092cda",
   "metadata": {
    "tags": []
   },
   "source": [
    "#### Prepare train data\n",
    "\n",
    "I use same way but change the variable to not making myself get confused."
   ]
  },
  {
   "cell_type": "code",
   "execution_count": 34,
   "id": "eaf4b7b8-cd5b-4bf0-a60d-82f5a893acb1",
   "metadata": {},
   "outputs": [
    {
     "data": {
      "text/plain": [
       "[['-', ':'],\n",
       " ['-', 'capital'],\n",
       " ['-', 'common'],\n",
       " ['-', '-'],\n",
       " ['common', 'capital'],\n",
       " ['common', '-'],\n",
       " ['common', '-'],\n",
       " ['common', 'countries'],\n",
       " ['-', ':'],\n",
       " ['-', 'city'],\n",
       " ['-', 'in'],\n",
       " ['-', '-'],\n",
       " ['in', 'city'],\n",
       " ['in', '-'],\n",
       " ['in', '-'],\n",
       " ['in', 'state'],\n",
       " ['-', ':'],\n",
       " ['-', 'gram1'],\n",
       " ['-', 'adjective'],\n",
       " ['-', '-'],\n",
       " ['adjective', 'gram1'],\n",
       " ['adjective', '-'],\n",
       " ['adjective', '-'],\n",
       " ['adjective', 'to'],\n",
       " ['-', '-'],\n",
       " ['-', 'adjective'],\n",
       " ['-', 'to'],\n",
       " ['-', '-'],\n",
       " ['to', 'adjective'],\n",
       " ['to', '-'],\n",
       " ['to', '-'],\n",
       " ['to', 'adverb'],\n",
       " ['-', ':'],\n",
       " ['-', 'gram5'],\n",
       " ['-', 'present'],\n",
       " ['-', '-'],\n",
       " ['present', 'gram5'],\n",
       " ['present', '-'],\n",
       " ['present', '-'],\n",
       " ['present', 'participle'],\n",
       " ['-', ':'],\n",
       " ['-', 'gram6'],\n",
       " ['-', 'nationality'],\n",
       " ['-', '-'],\n",
       " ['nationality', 'gram6'],\n",
       " ['nationality', '-'],\n",
       " ['nationality', '-'],\n",
       " ['nationality', 'adjective'],\n",
       " ['-', ':'],\n",
       " ['-', 'gram7']]"
      ]
     },
     "execution_count": 34,
     "metadata": {},
     "output_type": "execute_result"
    }
   ],
   "source": [
    "CBOW = []\n",
    "\n",
    "#for each corpus\n",
    "for sent in corpus_tokenised:\n",
    "    #for each sent [\"apple\", \"banana\", \"fruit\"]\n",
    "    for i in range(2, len(sent) - 2): # start from 1 to second last but we use window size of 2, then first centre word should be at index 2\n",
    "        center_word = sent[i]\n",
    "        outside_words = np.ravel([sent[i - 2:i],sent[i+1: i + 3]])  # window_size = 2\n",
    "        for o in outside_words:\n",
    "            CBOW.append([center_word, o])\n",
    "\n",
    "CBOW[:50] #shows only sample 50 elements"
   ]
  },
  {
   "cell_type": "code",
   "execution_count": 35,
   "id": "34dd843a-d1a9-48d2-b249-a646f0814e70",
   "metadata": {},
   "outputs": [],
   "source": [
    "def random_batch(batch_size, corpus):\n",
    "    \n",
    "    skipgrams = []\n",
    "\n",
    "    for sent in corpus:\n",
    "        for i in range(2, len(sent) - 2): #start from 2 to third last for window size = 2\n",
    "            centre_word = word2index[sent[i]]\n",
    "            outside_words = []\n",
    "            for j in np.ravel([sent[i - 2:i],sent[i + 1: i + 3]]):\n",
    "                outside_words.append(word2index[j])  #window_size = 2\n",
    "            for o in outside_words:\n",
    "                skipgrams.append([centre_word, o])\n",
    "                \n",
    "    #only get a batch, not the entire list\n",
    "    random_index = np.random.choice(range(len(skipgrams)), batch_size, replace=False)\n",
    "    #appending some list of inputs and labels\n",
    "    random_inputs, random_labels = [], []   \n",
    "    for index in random_index:\n",
    "        random_inputs.append([skipgrams[index][0]])  #center words, this will be a shape of (1, ) --> (1, 1) for modeling\n",
    "        random_labels.append([skipgrams[index][1]])\n",
    "        \n",
    "    return np.array(random_inputs), np.array(random_labels)"
   ]
  },
  {
   "cell_type": "code",
   "execution_count": 36,
   "id": "39b5fc25-f9ec-422e-bc77-772ea20806a4",
   "metadata": {},
   "outputs": [
    {
     "name": "stdout",
     "output_type": "stream",
     "text": [
      "(10, 1)\n",
      "label=array([[189],\n",
      "       [710],\n",
      "       [608],\n",
      "       [608],\n",
      "       [608],\n",
      "       [340],\n",
      "       [608],\n",
      "       [747],\n",
      "       [608],\n",
      "       [608]])\n"
     ]
    }
   ],
   "source": [
    "input, label = random_batch(10, corpus_tokenised)\n",
    "\n",
    "print(f\"{input.shape}\")\n",
    "print(f\"{label=}\")"
   ]
  },
  {
   "cell_type": "markdown",
   "id": "53a9fdea-4d32-4044-960e-55526a7b564e",
   "metadata": {},
   "source": [
    "#### Unigram distribution\n",
    "\n",
    "$$P(w)=U(w)^{3/4}/Z$$\n",
    "\n",
    "Defining the probability of sampling negative words"
   ]
  },
  {
   "cell_type": "code",
   "execution_count": 37,
   "id": "75c05bec-8848-4a2e-95c6-d7a45811d6c0",
   "metadata": {},
   "outputs": [],
   "source": [
    "from collections import Counter\n",
    "\n",
    "word_count = Counter(flatten(corpus_tokenised))\n",
    "# word_count # Showing word count"
   ]
  },
  {
   "cell_type": "code",
   "execution_count": 38,
   "id": "8a63b387-4320-4cbc-9001-2f9fb88d8ce8",
   "metadata": {},
   "outputs": [
    {
     "data": {
      "text/plain": [
       "78244"
      ]
     },
     "execution_count": 38,
     "metadata": {},
     "output_type": "execute_result"
    }
   ],
   "source": [
    "num_total_words = sum([c for w, c in word_count.items()])\n",
    "num_total_words"
   ]
  },
  {
   "cell_type": "code",
   "execution_count": 39,
   "id": "16ee2ada-d0d4-4c84-a0cd-c3f13a40e34e",
   "metadata": {},
   "outputs": [],
   "source": [
    "z = 0.001  #scaling up low frequency terms\n",
    "unigram_table = []\n",
    "\n",
    "# create loop for the P(w) formula\n",
    "for v in vocabs:\n",
    "    uw = word_count[v]/num_total_words\n",
    "    uw_alpha = uw ** (3/4)\n",
    "    uw_alpha_dividebyz = int(uw_alpha / z)\n",
    "    unigram_table.extend([v] * uw_alpha_dividebyz)\n",
    "    \n",
    "# Counter(unigram_table)"
   ]
  },
  {
   "cell_type": "markdown",
   "id": "1a88d713-ba21-4be3-a1e0-a613630fc982",
   "metadata": {},
   "source": [
    "#### Negative sampling"
   ]
  },
  {
   "cell_type": "code",
   "execution_count": 40,
   "id": "fce0f1fd-2624-4501-90e1-b85dc3cea509",
   "metadata": {},
   "outputs": [],
   "source": [
    "def prepare_sequence(seq, word2index):\n",
    "    idxs = list(map(lambda w: word2index[w] if word2index.get(w) is not None else word2index[\"<UNK>\"], seq))\n",
    "    return torch.LongTensor(idxs)"
   ]
  },
  {
   "cell_type": "code",
   "execution_count": 41,
   "id": "78441c1a-0eab-426c-b174-6fc0dadac3ad",
   "metadata": {},
   "outputs": [],
   "source": [
    "import random\n",
    "\n",
    "def negative_sampling(targets, unigram_table, k):\n",
    "    \n",
    "    batch_size = targets.shape[0]\n",
    "    neg_samples = []\n",
    "    \n",
    "    for i in range(batch_size):\n",
    "        #randomly pick k negative words from unigram_table\n",
    "        target_index = targets[i].item()  #looping each of the batch....\n",
    "        nsample = []\n",
    "        while len(nsample) < k:\n",
    "            neg = random.choice(unigram_table)\n",
    "            #if this word == target, skip this word\n",
    "            if word2index[neg] == target_index:\n",
    "                continue\n",
    "            nsample.append(neg)\n",
    "        #append this word to some list\n",
    "        neg_samples.append(prepare_sequence(nsample, word2index).reshape(1, -1))  #tensor[], tensor[]\n",
    "    return torch.cat(neg_samples)"
   ]
  },
  {
   "cell_type": "markdown",
   "id": "0293445e-a0b0-4230-b8d9-c022c364a332",
   "metadata": {},
   "source": [
    "According to quiz, Skipgram use centre to predict context but CBOW use context to predict centre, I just flip label and input on this step."
   ]
  },
  {
   "cell_type": "code",
   "execution_count": 42,
   "id": "c33afbc4-6113-4a36-96ff-863cff27a99e",
   "metadata": {},
   "outputs": [
    {
     "data": {
      "text/plain": [
       "(array([[608],\n",
       "        [608]]),\n",
       " array([[608],\n",
       "        [517]]))"
      ]
     },
     "execution_count": 42,
     "metadata": {},
     "output_type": "execute_result"
    }
   ],
   "source": [
    "batch_size = 2\n",
    "label_batch, input_batch = random_batch(batch_size, corpus_tokenised)\n",
    "\n",
    "input_batch, label_batch"
   ]
  },
  {
   "cell_type": "code",
   "execution_count": 43,
   "id": "ddc16910-6a7d-4f0e-8915-2ec80aa36c97",
   "metadata": {},
   "outputs": [],
   "source": [
    "# Convert to Tensor\n",
    "\n",
    "input_batch = torch.LongTensor(input_batch)\n",
    "label_batch = torch.LongTensor(label_batch)"
   ]
  },
  {
   "cell_type": "code",
   "execution_count": 44,
   "id": "b56a60e6-5b6a-428b-b9ef-861af47a61b7",
   "metadata": {},
   "outputs": [],
   "source": [
    "num_neg = 10  # I will try 10 as in the paper.\n",
    "neg_samples = negative_sampling(label_batch, unigram_table, num_neg)"
   ]
  },
  {
   "cell_type": "code",
   "execution_count": 45,
   "id": "8436ba74-2a96-4cda-87a3-48b7773d2930",
   "metadata": {},
   "outputs": [
    {
     "data": {
      "text/plain": [
       "torch.Size([2, 10])"
      ]
     },
     "execution_count": 45,
     "metadata": {},
     "output_type": "execute_result"
    }
   ],
   "source": [
    "neg_samples.shape # shape is (batch_size, num_neg)"
   ]
  },
  {
   "cell_type": "markdown",
   "id": "2cd90cc2-54e1-44c6-ae57-d17e1c2bf8e5",
   "metadata": {},
   "source": [
    "#### Model"
   ]
  },
  {
   "cell_type": "code",
   "execution_count": 46,
   "id": "aaf3c4cf-7bce-4f0f-a0a2-d6c00e12a09a",
   "metadata": {},
   "outputs": [],
   "source": [
    "# get inspired from https://github.com/jeffchy/pytorch-word-embedding/blob/master/CBOW.py\n",
    "\n",
    "class CBOW(nn.Module):\n",
    "    \n",
    "    def __init__(self, voc_size, emb_size):\n",
    "        super(CBOW, self).__init__()\n",
    "        self.embedding_centre_word  = nn.Embedding(voc_size, emb_size)\n",
    "        self.embedding_outside_word = nn.Embedding(voc_size, emb_size)\n",
    "        self.logsigmoid = nn.LogSigmoid()\n",
    "        \n",
    "    def forward(self, centre_words, outside_words, negative_words):\n",
    "        \n",
    "        centre_embed  = self.embedding_centre_word(centre_words)    #(batch_size, 1, emb_size)\n",
    "        outside_embed = self.embedding_outside_word(outside_words)  #(batch_size, 1, emb_size)\n",
    "        neg_embed     = self.embedding_outside_word(negative_words) #(batch_size, k, emb_size)\n",
    "        \n",
    "        uovc          =  outside_embed.bmm(centre_embed.transpose(1, 2)).squeeze(2)  #(batch_size, 1)\n",
    "        ukvc          = -neg_embed.bmm(centre_embed.transpose(1, 2)).squeeze(2)  #(batch_size, k)\n",
    "        ukvc_sum      =  torch.sum(ukvc, 1).view(-1, 1) #(batch_size, 1)\n",
    "        \n",
    "        loss = self.logsigmoid(uovc) + self.logsigmoid(ukvc_sum)  #(batch_size, 1) + (batch_size, 1)\n",
    "                \n",
    "        return -torch.mean(loss)  #scalar, loss should be scalar, to call backward()"
   ]
  },
  {
   "cell_type": "markdown",
   "id": "38a38113-0b9f-4960-82af-c3dceef3a6cc",
   "metadata": {},
   "source": [
    "I flip label and input on this step also."
   ]
  },
  {
   "cell_type": "code",
   "execution_count": 47,
   "id": "cf5c8c24-2957-4129-8b57-7adf607b78b9",
   "metadata": {},
   "outputs": [],
   "source": [
    "label, input = random_batch(batch_size, corpus_tokenised)\n",
    "input_tensor = torch.LongTensor(input)  \n",
    "label_tensor = torch.LongTensor(label)"
   ]
  },
  {
   "cell_type": "code",
   "execution_count": 48,
   "id": "023182d0-a3d4-44bd-be17-8ce250b2f065",
   "metadata": {},
   "outputs": [],
   "source": [
    "emb_size = 10 # I will try on 10.\n",
    "voc_size = len(vocabs)\n",
    "modelCB = CBOW(voc_size, emb_size)"
   ]
  },
  {
   "cell_type": "code",
   "execution_count": 49,
   "id": "796b685e-8a35-4365-8695-11a6305b1e6a",
   "metadata": {},
   "outputs": [],
   "source": [
    "neg_tensor = negative_sampling(label_tensor, unigram_table, 5)"
   ]
  },
  {
   "cell_type": "code",
   "execution_count": 50,
   "id": "da3857c1-2e46-4f65-aba6-5acc60ffed49",
   "metadata": {},
   "outputs": [
    {
     "data": {
      "text/plain": [
       "(torch.Size([2, 1]), torch.Size([2, 1]))"
      ]
     },
     "execution_count": 50,
     "metadata": {},
     "output_type": "execute_result"
    }
   ],
   "source": [
    "input_tensor.shape, label_tensor.shape"
   ]
  },
  {
   "cell_type": "code",
   "execution_count": 51,
   "id": "967c6ae4-1e50-4ba3-8692-a87ac38d3f88",
   "metadata": {},
   "outputs": [
    {
     "data": {
      "text/plain": [
       "tensor(2.5191, grad_fn=<NegBackward0>)"
      ]
     },
     "execution_count": 51,
     "metadata": {},
     "output_type": "execute_result"
    }
   ],
   "source": [
    "loss = modelCB(input_tensor, label_tensor, neg_tensor)\n",
    "loss"
   ]
  },
  {
   "cell_type": "markdown",
   "id": "c4f3ea3b-5555-40d4-817b-151bb6df1f97",
   "metadata": {},
   "source": [
    "#### Training"
   ]
  },
  {
   "cell_type": "code",
   "execution_count": 52,
   "id": "23c8c9c4-9db0-4dc0-8783-954d6b3a8005",
   "metadata": {},
   "outputs": [],
   "source": [
    "voc_size   = len(vocabs)\n",
    "batch_size = 2\n",
    "emb_size   = 10\n",
    "modelCB      = CBOW(voc_size, emb_size)\n",
    "\n",
    "optimizer  = optim.Adam(modelCB.parameters(), lr=0.001)"
   ]
  },
  {
   "cell_type": "code",
   "execution_count": 53,
   "id": "6002557e-879b-4f21-95fd-2f6c57a24a65",
   "metadata": {},
   "outputs": [
    {
     "name": "stdout",
     "output_type": "stream",
     "text": [
      "Epoch 1000 | Loss: 0.009406 | Time: 0m 0s\n",
      "Epoch 2000 | Loss: 0.000000 | Time: 0m 0s\n",
      "Epoch 3000 | Loss: 0.000000 | Time: 0m 0s\n",
      "Epoch 4000 | Loss: 0.000000 | Time: 0m 0s\n",
      "Epoch 5000 | Loss: -0.000000 | Time: 0m 0s\n",
      "Process Time: 0m 47s\n"
     ]
    }
   ],
   "source": [
    "num_epochs = 5000\n",
    "startp = time.time()\n",
    "for epoch in range(num_epochs):\n",
    "    start = time.time()\n",
    "    #get random batch\n",
    "    input_batch, label_batch = random_batch(batch_size, corpus_tokenised)\n",
    "    input_batch = torch.LongTensor(input_batch)\n",
    "    label_batch = torch.LongTensor(label_batch)\n",
    "    neg_batch   = negative_sampling(label_batch, unigram_table, 5)    \n",
    "    \n",
    "    #loss = modelCB\n",
    "    loss = modelCB(input_batch, label_batch, neg_batch)\n",
    "    end = time.time()\n",
    "    \n",
    "    epoch_mins, epoch_secs = epoch_time(start, end)\n",
    "    #backpropagate\n",
    "    loss.backward()\n",
    "    \n",
    "    #update alpha\n",
    "    optimizer.step()\n",
    "    \n",
    "    #print epoch loss\n",
    "    if (epoch + 1) % 1000 == 0:\n",
    "        print(f\"Epoch {epoch+1} | Loss: {loss:.6f} | Time: {epoch_mins}m {epoch_secs}s\")\n",
    "endp = time.time()\n",
    "mins, secs = epoch_time(startp, endp)\n",
    "print(f\"Process Time: {mins}m {secs}s\")"
   ]
  },
  {
   "cell_type": "markdown",
   "id": "d4cb8914-d820-411a-8c2d-ffd33ff8183e",
   "metadata": {},
   "source": [
    "#### Plot the embeddings"
   ]
  },
  {
   "cell_type": "code",
   "execution_count": 54,
   "id": "aae2adce-f016-4ac0-943a-e3df52ee5f0f",
   "metadata": {},
   "outputs": [
    {
     "data": {
      "text/plain": [
       "tensor([59])"
      ]
     },
     "execution_count": 54,
     "metadata": {},
     "output_type": "execute_result"
    }
   ],
   "source": [
    "Athens = torch.LongTensor([word2index['Athens']])\n",
    "Athens"
   ]
  },
  {
   "cell_type": "code",
   "execution_count": 55,
   "id": "21feb9e6-dfb1-44a0-af9c-87e339611bc9",
   "metadata": {},
   "outputs": [
    {
     "data": {
      "text/plain": [
       "tensor([[ 2.7279,  1.9343,  2.4300,  2.6567,  0.8942, -2.2976,  2.6259,  1.8140,\n",
       "         -3.0747, -1.5097]], grad_fn=<DivBackward0>)"
      ]
     },
     "execution_count": 55,
     "metadata": {},
     "output_type": "execute_result"
    }
   ],
   "source": [
    "Athens_centre_embed = modelCB.embedding_centre_word(Athens)\n",
    "Athens_outside_embed = modelCB.embedding_outside_word(Athens)\n",
    "\n",
    "Athens_embed = (Athens_centre_embed + Athens_outside_embed) / 2\n",
    "Athens_embed"
   ]
  },
  {
   "cell_type": "code",
   "execution_count": 56,
   "id": "7875886d-4889-47cc-a54e-fe4f1e9961a1",
   "metadata": {},
   "outputs": [],
   "source": [
    "def get_embed(word):\n",
    "    try:\n",
    "        index = word2index[word]\n",
    "    except:\n",
    "        index = word2index['<UNK>']\n",
    "    \n",
    "    word = torch.LongTensor([index])\n",
    "\n",
    "    center_embed  = modelCB.embedding_centre_word(word)\n",
    "    outside_embed = modelCB.embedding_outside_word(word)\n",
    "    \n",
    "    embed = (center_embed + outside_embed) / 2\n",
    "    \n",
    "    return  embed[0][0].item(), embed[0][1].item()"
   ]
  },
  {
   "cell_type": "code",
   "execution_count": 57,
   "id": "740268de-b405-4884-af20-27c507df71a2",
   "metadata": {},
   "outputs": [
    {
     "name": "stdout",
     "output_type": "stream",
     "text": [
      "(2.727918863296509, 1.9342565536499023)\n"
     ]
    }
   ],
   "source": [
    "print(get_embed('Athens'))"
   ]
  },
  {
   "cell_type": "code",
   "execution_count": 58,
   "id": "fd114924-2e93-4871-80fc-8ed7a9ccfc91",
   "metadata": {},
   "outputs": [
    {
     "data": {
      "image/png": "[encoded data removed]",
      "text/plain": [
       "<Figure size 432x216 with 1 Axes>"
      ]
     },
     "metadata": {
      "needs_background": "light"
     },
     "output_type": "display_data"
    }
   ],
   "source": [
    "plt.figure(figsize=(6,3))\n",
    "for i, word in enumerate(vocabs[:20]): #loop each unique vocab\n",
    "    x, y = get_embed(word)\n",
    "    plt.scatter(x, y)\n",
    "    plt.annotate(word, xy=(x, y), xytext=(5, 2), textcoords='offset points')\n",
    "plt.show()"
   ]
  },
  {
   "cell_type": "markdown",
   "id": "db93c73b-f7d4-4f70-b375-e8b5d021d45f",
   "metadata": {},
   "source": [
    "## 7. Normal Skipgram"
   ]
  },
  {
   "cell_type": "code",
   "execution_count": 59,
   "id": "2ee51d87-112a-4e35-b2d2-c719ae4f3373",
   "metadata": {
    "tags": []
   },
   "outputs": [
    {
     "data": {
      "text/plain": [
       "59"
      ]
     },
     "execution_count": 59,
     "metadata": {},
     "output_type": "execute_result"
    }
   ],
   "source": [
    "#delete dupliAthense word define as vocabs, also include unknow as <UNK>.\n",
    "flatten = lambda l: [item for sublist in l for item in sublist]\n",
    "vocabs  = list(set(flatten(corpus_tokenised)))\n",
    "vocabs.append('<UNK>') # to let '<UNK>' become the last.\n",
    "word2index = {v: idx+1 for idx, v in enumerate(vocabs)} #plus one to shift value in word index to assign <UNK>'s value to 0 without dupliAthension with others.\n",
    "word2index['<UNK>'] = 0\n",
    "\n",
    "#Let check word to index's value\n",
    "word2index[\"Athens\"]"
   ]
  },
  {
   "cell_type": "code",
   "execution_count": 60,
   "id": "3001e6a0-4fcb-44d0-a38f-46debfcdeacf",
   "metadata": {},
   "outputs": [
    {
     "data": {
      "text/plain": [
       "'harder'"
      ]
     },
     "execution_count": 60,
     "metadata": {},
     "output_type": "execute_result"
    }
   ],
   "source": [
    "# Create index to word\n",
    "index2word = {v:k for k, v in word2index.items()}\n",
    "\n",
    "index2word[50]"
   ]
  },
  {
   "cell_type": "code",
   "execution_count": 61,
   "id": "28dc7e9d-334d-4aa9-bbc4-c258ca57f428",
   "metadata": {},
   "outputs": [],
   "source": [
    "skipgrams = []\n",
    "\n",
    "#for each corpus\n",
    "for sent in corpus_tokenised:\n",
    "    #for each sent [\"apple\", \"banana\", \"fruit\"]\n",
    "    for i in range(2, len(sent) - 2): # start from 1 to second last but we use window size of 2, then first centre word should be at index 2\n",
    "        center_word = sent[i]\n",
    "        outside_words = np.ravel([sent[i - 2:i],sent[i+1: i + 3]])  # window_size = 2\n",
    "        for o in outside_words:\n",
    "            skipgrams.append([center_word, o])\n",
    "\n",
    "# skipgrams[:50] #shows only sample 50 elements"
   ]
  },
  {
   "cell_type": "code",
   "execution_count": 62,
   "id": "c9fd6fca-3c9d-4c49-9593-0365755f3659",
   "metadata": {},
   "outputs": [],
   "source": [
    "def random_batch(batch_size, corpus):\n",
    "    \n",
    "    skipgrams = []\n",
    "\n",
    "    for sent in corpus:\n",
    "        for i in range(2, len(sent) - 2): #start from 2 to third last for window size = 2\n",
    "            centre_word = word2index[sent[i]]\n",
    "            outside_words = []\n",
    "            for j in np.ravel([sent[i - 2:i],sent[i + 1: i + 3]]):\n",
    "                outside_words.append(word2index[j])  #window_size = 2\n",
    "            for o in outside_words:\n",
    "                skipgrams.append([centre_word, o])\n",
    "                \n",
    "    #only get a batch, not the entire list\n",
    "    random_index = np.random.choice(range(len(skipgrams)), batch_size, replace=False)\n",
    "    #appending some list of inputs and labels\n",
    "    random_inputs, random_labels = [], []   \n",
    "    for index in random_index:\n",
    "        random_inputs.append([skipgrams[index][0]])  #center words, this will be a shape of (1, ) --> (1, 1) for modeling\n",
    "        random_labels.append([skipgrams[index][1]])\n",
    "        \n",
    "    return np.array(random_inputs), np.array(random_labels)"
   ]
  },
  {
   "cell_type": "code",
   "execution_count": 63,
   "id": "ee839e55-b4b7-49ad-9cf7-b65f8c0cf9f6",
   "metadata": {},
   "outputs": [],
   "source": [
    "class Skipgram(nn.Module):\n",
    "    \n",
    "    def __init__(self, voc_size, emb_size):\n",
    "        super(Skipgram, self).__init__()\n",
    "        self.embedding_centre_word  = nn.Embedding(voc_size, emb_size)  #is a lookup table mapping all ids in voc_size, into some vector of size emb_size\n",
    "        self.embedding_outside_word = nn.Embedding(voc_size, emb_size)\n",
    "    \n",
    "    def forward(self, centre_word, outside_word, all_vocabs):\n",
    "        #center_word, outside_word: (batch_size, 1)\n",
    "        #all_vocabs: (batch_size, voc_size)\n",
    "        \n",
    "        #convert them into embedding\n",
    "        centre_word_embed  = self.embedding_centre_word(centre_word)     #(batch_size, 1, emb_size)\n",
    "        outside_word_embed = self.embedding_outside_word(outside_word)   #(batch_size, 1, emb_size)\n",
    "        all_vocabs_embed   = self.embedding_outside_word(all_vocabs)     #(batch_size, voc_size, emb_size)\n",
    "        \n",
    "        #bmm is basically @ or .dot , but across batches (i.e., ignore the batch dimension)\n",
    "        top_term = outside_word_embed.bmm(centre_word_embed.transpose(1, 2)).squeeze(2)\n",
    "        #(batch_size, 1, emb_size) @ (batch_size, emb_size, 1) = (batch_size, 1, 1) ===> (batch_size, 1)\n",
    "        \n",
    "        top_term_exp = torch.exp(top_term)  #exp(uo vc)\n",
    "        #(batch_size, 1)\n",
    "        \n",
    "        lower_term = all_vocabs_embed.bmm(centre_word_embed.transpose(1, 2)).squeeze(2)\n",
    "         #(batch_size, voc_size, emb_size) @ (batch_size, emb_size, 1) = (batch_size, voc_size, 1) = (batch_size, voc_size)\n",
    "         \n",
    "        lower_term_sum = torch.sum(torch.exp(lower_term), 1) #sum exp(uw vc)\n",
    "        #(batch_size, 1)\n",
    "        \n",
    "        loss_fn = -torch.mean(torch.log(top_term_exp / lower_term_sum))\n",
    "        #(batch_size, 1) / (batch_size, 1) ==mean==> scalar\n",
    "        \n",
    "        return loss_fn"
   ]
  },
  {
   "cell_type": "code",
   "execution_count": 64,
   "id": "c85847a9-1e24-46be-8ddd-99ad1eb7ed7c",
   "metadata": {},
   "outputs": [
    {
     "name": "stdout",
     "output_type": "stream",
     "text": [
      "(10, 1)\n",
      "label=array([[608],\n",
      "       [608],\n",
      "       [608],\n",
      "       [710],\n",
      "       [608],\n",
      "       [509],\n",
      "       [747],\n",
      "       [233],\n",
      "       [461],\n",
      "       [608]])\n"
     ]
    }
   ],
   "source": [
    "input, label = random_batch(10, corpus_tokenised)\n",
    "\n",
    "print(f\"{input.shape}\")\n",
    "print(f\"{label=}\")"
   ]
  },
  {
   "cell_type": "markdown",
   "id": "111adfee-41aa-4639-87d3-6bd14b04e52b",
   "metadata": {},
   "source": [
    "#### Model\n"
   ]
  },
  {
   "cell_type": "code",
   "execution_count": 65,
   "id": "2c274654-b519-42da-a888-57e57a4c0b98",
   "metadata": {},
   "outputs": [
    {
     "data": {
      "text/plain": [
       "torch.Size([2, 939])"
      ]
     },
     "execution_count": 65,
     "metadata": {},
     "output_type": "execute_result"
    }
   ],
   "source": [
    "batch_size = 2\n",
    "\n",
    "def prepare_sequence(seq, word2index):\n",
    "    #map(function, list of something)\n",
    "    #map will look at each of element in this list, and apply this function\n",
    "    idxs = list(map(lambda w: word2index[w] if word2index.get(w) is not None else word2index[\"<UNK>\"], seq))\n",
    "    return torch.LongTensor(idxs)\n",
    "\n",
    "all_vocabs = prepare_sequence(list(vocabs), word2index).expand(batch_size, voc_size)\n",
    "all_vocabs.shape"
   ]
  },
  {
   "cell_type": "code",
   "execution_count": 66,
   "id": "ff82449c-4b19-4430-a96f-8b3daaa403ff",
   "metadata": {},
   "outputs": [],
   "source": [
    "input, label = random_batch(batch_size, corpus_tokenised)\n",
    "input_tensor = torch.LongTensor(input)  \n",
    "label_tensor = torch.LongTensor(label)"
   ]
  },
  {
   "cell_type": "code",
   "execution_count": 67,
   "id": "88ce7e54-6003-46e1-b163-ff0f6b08f8bf",
   "metadata": {},
   "outputs": [],
   "source": [
    "emb_size = 10 # I will try on 10.\n",
    "voc_size = len(vocabs)\n",
    "modelSk = Skipgram(voc_size, emb_size)"
   ]
  },
  {
   "cell_type": "code",
   "execution_count": 68,
   "id": "e90176b5-3876-406c-9b9e-3a01443894eb",
   "metadata": {},
   "outputs": [
    {
     "data": {
      "text/plain": [
       "(torch.Size([2, 1]), torch.Size([2, 1]))"
      ]
     },
     "execution_count": 68,
     "metadata": {},
     "output_type": "execute_result"
    }
   ],
   "source": [
    "input_tensor.shape, label_tensor.shape"
   ]
  },
  {
   "cell_type": "code",
   "execution_count": 69,
   "id": "a30ae1a5-067c-459e-94ab-35c8a8430b39",
   "metadata": {},
   "outputs": [
    {
     "data": {
      "text/plain": [
       "tensor(10.7779, grad_fn=<NegBackward0>)"
      ]
     },
     "execution_count": 69,
     "metadata": {},
     "output_type": "execute_result"
    }
   ],
   "source": [
    "loss = modelSk(input_tensor, label_tensor, all_vocabs)\n",
    "loss"
   ]
  },
  {
   "cell_type": "markdown",
   "id": "973884f0-7145-4bf6-ac2d-32e5c72fd16e",
   "metadata": {},
   "source": [
    "#### Training"
   ]
  },
  {
   "cell_type": "code",
   "execution_count": 70,
   "id": "edb69961-e926-49b3-9a33-22c9497643b5",
   "metadata": {},
   "outputs": [],
   "source": [
    "voc_size   = len(vocabs)\n",
    "batch_size = 2\n",
    "emb_size   = 10\n",
    "modelSk      = Skipgram(voc_size, emb_size)\n",
    "\n",
    "optimizer  = optim.Adam(modelSk.parameters(), lr=0.001)"
   ]
  },
  {
   "cell_type": "code",
   "execution_count": 71,
   "id": "09b08267-54fb-43af-b33f-5d75c7cd25a4",
   "metadata": {},
   "outputs": [
    {
     "name": "stdout",
     "output_type": "stream",
     "text": [
      "Epoch 1000 | Loss: 2.492503 | Time: 0m 0s\n",
      "Epoch 2000 | Loss: 1.796940 | Time: 0m 0s\n",
      "Epoch 3000 | Loss: 1.329995 | Time: 0m 0s\n",
      "Process Time: 0m 28s\n"
     ]
    }
   ],
   "source": [
    "num_epochs = 3000 # I tried 5000 and it was nan. IDK why.\n",
    "startp = time.time()\n",
    "#for epoch\n",
    "for epoch in range(num_epochs):\n",
    "    start = time.time()\n",
    "    #get random batch\n",
    "    input_batch, label_batch = random_batch(batch_size, corpus_tokenised)\n",
    "    input_batch = torch.LongTensor(input_batch)\n",
    "    label_batch = torch.LongTensor(label_batch)\n",
    "    \n",
    "    # print(input_batch.shape, label_batch.shape, all_vocabs.shape)\n",
    "    \n",
    "    #loss = modelSk\n",
    "    loss = modelSk(input_batch, label_batch, all_vocabs)\n",
    "    \n",
    "    end = time.time()\n",
    "    \n",
    "    epoch_mins, epoch_secs = epoch_time(start, end)\n",
    "    \n",
    "    #backpropagate\n",
    "    loss.backward()\n",
    "    \n",
    "    #update alpha\n",
    "    optimizer.step()\n",
    "    \n",
    "    #print epoch loss\n",
    "    if (epoch + 1) % 1000 == 0:\n",
    "        print(f\"Epoch {epoch+1} | Loss: {loss:.6f} | Time: {epoch_mins}m {epoch_secs}s\")\n",
    "\n",
    "endp = time.time()\n",
    "mins, secs = epoch_time(startp, endp)\n",
    "print(f\"Process Time: {mins}m {secs}s\")"
   ]
  },
  {
   "cell_type": "markdown",
   "id": "b1ab4f14-d73f-4fbf-903e-dc79c3baceba",
   "metadata": {},
   "source": [
    "#### Plot the embeddings"
   ]
  },
  {
   "cell_type": "code",
   "execution_count": 72,
   "id": "55a5a7b7-a08c-432a-b968-45f1b854804a",
   "metadata": {},
   "outputs": [
    {
     "data": {
      "text/plain": [
       "tensor([59])"
      ]
     },
     "execution_count": 72,
     "metadata": {},
     "output_type": "execute_result"
    }
   ],
   "source": [
    "Athens = torch.LongTensor([word2index['Athens']])\n",
    "Athens"
   ]
  },
  {
   "cell_type": "code",
   "execution_count": 73,
   "id": "7e9bb4c9-7100-4b47-b562-28d4806476d5",
   "metadata": {},
   "outputs": [
    {
     "data": {
      "text/plain": [
       "tensor([[-0.2706, -1.9972, -2.3916,  0.8262, -2.0140,  1.9555,  1.0224, -1.4896,\n",
       "         -2.5802, -2.1683]], grad_fn=<DivBackward0>)"
      ]
     },
     "execution_count": 73,
     "metadata": {},
     "output_type": "execute_result"
    }
   ],
   "source": [
    "Athens_centre_embed = modelSk.embedding_centre_word(Athens)\n",
    "Athens_outside_embed = modelSk.embedding_outside_word(Athens)\n",
    "\n",
    "Athens_embed = (Athens_centre_embed + Athens_outside_embed) / 2\n",
    "Athens_embed"
   ]
  },
  {
   "cell_type": "code",
   "execution_count": 74,
   "id": "3496d9af-afeb-4ab9-bd63-02953ac00c9f",
   "metadata": {},
   "outputs": [],
   "source": [
    "def get_embed(word):\n",
    "    try:\n",
    "        index = word2index[word]\n",
    "    except:\n",
    "        index = word2index['<UNK>']\n",
    "    \n",
    "    word = torch.LongTensor([index])\n",
    "\n",
    "    center_embed  = modelSk.embedding_centre_word(word)\n",
    "    outside_embed = modelSk.embedding_outside_word(word)\n",
    "    \n",
    "    embed = (center_embed + outside_embed) / 2\n",
    "    \n",
    "    return  embed[0][0].item(), embed[0][1].item()"
   ]
  },
  {
   "cell_type": "code",
   "execution_count": 75,
   "id": "8e5b05d8-77de-40ac-91a8-2c6224916774",
   "metadata": {},
   "outputs": [
    {
     "name": "stdout",
     "output_type": "stream",
     "text": [
      "(-0.27064716815948486, -1.9972343444824219)\n"
     ]
    }
   ],
   "source": [
    "print(get_embed('Athens'))"
   ]
  },
  {
   "cell_type": "code",
   "execution_count": 76,
   "id": "158ab7dc-d2b9-4dd7-929c-7abdacabb0c2",
   "metadata": {},
   "outputs": [
    {
     "data": {
      "image/png": "[encoded data removed]",
      "text/plain": [
       "<Figure size 432x216 with 1 Axes>"
      ]
     },
     "metadata": {
      "needs_background": "light"
     },
     "output_type": "display_data"
    }
   ],
   "source": [
    "plt.figure(figsize=(6,3))\n",
    "for i, word in enumerate(vocabs[:20]): #loop each unique vocab\n",
    "    x, y = get_embed(word)\n",
    "    plt.scatter(x, y)\n",
    "    plt.annotate(word, xy=(x, y), xytext=(5, 2), textcoords='offset points')\n",
    "plt.show()"
   ]
  },
  {
   "cell_type": "markdown",
   "id": "dd213e17-f34f-49ac-af40-e774e3d2c790",
   "metadata": {},
   "source": [
    "# 8. GloVe"
   ]
  },
  {
   "cell_type": "code",
   "execution_count": 77,
   "id": "a91a76a7-f8f0-459f-bf38-021347de4e0d",
   "metadata": {},
   "outputs": [
    {
     "data": {
      "text/plain": [
       "['stepdaughter', 'furious', 'heavier', 'wide', 'Germany']"
      ]
     },
     "execution_count": 77,
     "metadata": {},
     "output_type": "execute_result"
    }
   ],
   "source": [
    "#get word sequences and unique words\n",
    "flatten = lambda l: [item for sublist in l for item in sublist]\n",
    "vocab = list(set(flatten(corpus_tokenised)))\n",
    "vocab[:5]"
   ]
  },
  {
   "cell_type": "code",
   "execution_count": 78,
   "id": "2d59d7eb-df13-4f00-8214-d79de93c54ce",
   "metadata": {},
   "outputs": [],
   "source": [
    "#numericalization\n",
    "word2index = {w: i for i, w in enumerate(vocab)}"
   ]
  },
  {
   "cell_type": "code",
   "execution_count": 79,
   "id": "858cfb85-d49d-4161-afbd-4a1cc8b9cd3c",
   "metadata": {},
   "outputs": [
    {
     "name": "stdout",
     "output_type": "stream",
     "text": [
      "938\n"
     ]
    }
   ],
   "source": [
    "#vocab size\n",
    "voc_size = len(vocab)\n",
    "print(voc_size)"
   ]
  },
  {
   "cell_type": "code",
   "execution_count": 80,
   "id": "535fd176-cc04-441f-b7ce-f4bf9b7ed51d",
   "metadata": {},
   "outputs": [],
   "source": [
    "#append UNK\n",
    "vocab.append('<UNK>')"
   ]
  },
  {
   "cell_type": "code",
   "execution_count": 81,
   "id": "afe065ba-d1d1-437b-83d1-8d7c4c0e487d",
   "metadata": {},
   "outputs": [],
   "source": [
    "word2index['<UNK>'] = 0"
   ]
  },
  {
   "cell_type": "code",
   "execution_count": 82,
   "id": "ac3ad4cf-d1bd-437c-8cd5-e0cd405bb24f",
   "metadata": {},
   "outputs": [],
   "source": [
    "#just in case we need to use\n",
    "index2word = {v:k for k, v in word2index.items()} "
   ]
  },
  {
   "cell_type": "markdown",
   "id": "072ec138-f75a-4b0e-8e4d-1104dd7c3e49",
   "metadata": {},
   "source": [
    "### Build Co-occurence Matrix X"
   ]
  },
  {
   "cell_type": "code",
   "execution_count": 83,
   "id": "c59be243-eab5-4928-b7bf-27ec756a4af4",
   "metadata": {
    "tags": []
   },
   "outputs": [],
   "source": [
    "from collections import Counter\n",
    "\n",
    "X_i = Counter(flatten(corpus)) # X_i\n",
    "# X_i"
   ]
  },
  {
   "cell_type": "code",
   "execution_count": 84,
   "id": "0eb3168d-0e10-4e3f-98ee-a7a43ffca6d3",
   "metadata": {},
   "outputs": [
    {
     "data": {
      "text/plain": [
       "[('-', ':'),\n",
       " ('-', 'capital'),\n",
       " ('-', 'common'),\n",
       " ('-', '-'),\n",
       " ('common', 'capital')]"
      ]
     },
     "execution_count": 84,
     "metadata": {},
     "output_type": "execute_result"
    }
   ],
   "source": [
    "# Make skip gram of one size window\n",
    "skip_grams = []\n",
    "\n",
    "for sent in corpus_tokenised:\n",
    "    #for each sent [\"apple\", \"banana\", \"fruit\"]\n",
    "    for i in range(2, len(sent) - 2): # start from 1 to second last but we use window size of 2, then first centre word should be at index 2\n",
    "        target = sent[i]\n",
    "        context = np.ravel([sent[i - 2:i],sent[i+1: i + 3]])  # window_size = 2\n",
    "        for w in context:\n",
    "            skip_grams.append((target, w))\n",
    "\n",
    "skip_grams[:5]"
   ]
  },
  {
   "cell_type": "code",
   "execution_count": 85,
   "id": "a0276da5-3989-4af8-974a-8b73c187b0ad",
   "metadata": {
    "tags": []
   },
   "outputs": [
    {
     "data": {
      "text/plain": [
       "Counter({('-', ':'): 7,\n",
       "         ('-', 'capital'): 1,\n",
       "         ('-', 'common'): 1,\n",
       "         ('-', '-'): 9,\n",
       "         ('common', 'capital'): 1,\n",
       "         ('common', '-'): 2,\n",
       "         ('common', 'countries'): 1,\n",
       "         ('-', 'city'): 1,\n",
       "         ('-', 'in'): 1,\n",
       "         ('in', 'city'): 1,\n",
       "         ('in', '-'): 2,\n",
       "         ('in', 'state'): 1,\n",
       "         ('-', 'gram1'): 1,\n",
       "         ('-', 'adjective'): 2,\n",
       "         ('adjective', 'gram1'): 1,\n",
       "         ('adjective', '-'): 2,\n",
       "         ('adjective', 'to'): 1,\n",
       "         ('-', 'to'): 1,\n",
       "         ('to', 'adjective'): 1,\n",
       "         ('to', '-'): 2,\n",
       "         ('to', 'adverb'): 1,\n",
       "         ('-', 'gram5'): 1,\n",
       "         ('-', 'present'): 1,\n",
       "         ('present', 'gram5'): 1,\n",
       "         ('present', '-'): 2,\n",
       "         ('present', 'participle'): 1,\n",
       "         ('-', 'gram6'): 1,\n",
       "         ('-', 'nationality'): 1,\n",
       "         ('nationality', 'gram6'): 1,\n",
       "         ('nationality', '-'): 2,\n",
       "         ('nationality', 'adjective'): 1,\n",
       "         ('-', 'gram7'): 1,\n",
       "         ('-', 'past'): 1,\n",
       "         ('past', 'gram7'): 1,\n",
       "         ('past', '-'): 2,\n",
       "         ('past', 'tense'): 1,\n",
       "         ('-', 'gram9'): 1,\n",
       "         ('-', 'plural'): 1,\n",
       "         ('plural', 'gram9'): 1,\n",
       "         ('plural', '-'): 2,\n",
       "         ('plural', 'verbs'): 1})"
      ]
     },
     "execution_count": 85,
     "metadata": {},
     "output_type": "execute_result"
    }
   ],
   "source": [
    "X_ik_skipgram = Counter(skip_grams) # Co-occurece in window size 1\n",
    "X_ik_skipgram"
   ]
  },
  {
   "cell_type": "code",
   "execution_count": 86,
   "id": "3f1ea419-c99e-46a9-a740-48a48de7fa89",
   "metadata": {},
   "outputs": [],
   "source": [
    "#simply a normalized function...don't worry too much\n",
    "def weighting(w_i, w_j, X_ik):\n",
    "        \n",
    "    #check whether the co-occurrences exist between these two words\n",
    "    try:\n",
    "        x_ij = X_ik[(w_i, w_j)]\n",
    "    except:\n",
    "        x_ij = 1  #if does not exist, set it to 1\n",
    "                \n",
    "    x_max = 100 #100 # fixed in paper  #cannot exceed 100 counts\n",
    "    alpha = 0.75\n",
    "    \n",
    "    #if co-occurrence does not exceed 100, scale it based on some alpha\n",
    "    if x_ij < x_max:\n",
    "        result = (x_ij/x_max)**alpha  #scale it\n",
    "    else:\n",
    "        result = 1  #if is greater than max, set it to 1 maximum\n",
    "    \n",
    "    return result"
   ]
  },
  {
   "cell_type": "code",
   "execution_count": 87,
   "id": "433b8ed2-e1ae-418d-8566-89ff6df84a16",
   "metadata": {},
   "outputs": [
    {
     "name": "stderr",
     "output_type": "stream",
     "text": [
      "IOPub data rate exceeded.\n",
      "The notebook server will temporarily stop sending output\n",
      "to the client in order to avoid crashing it.\n",
      "To change this limit, set the config variable\n",
      "`--NotebookApp.iopub_data_rate_limit`.\n",
      "\n",
      "Current values:\n",
      "NotebookApp.iopub_data_rate_limit=1000000.0 (bytes/sec)\n",
      "NotebookApp.rate_limit_window=3.0 (secs)\n",
      "\n"
     ]
    }
   ],
   "source": [
    "from itertools import combinations_with_replacement\n",
    "\n",
    "X_ik = {}  #for keeping the co-occurences\n",
    "weighting_dic = {} #scaling the percentage of sampling\n",
    "\n",
    "for bigram in combinations_with_replacement(vocab, 2):\n",
    "    if X_ik_skipgram.get(bigram) is not None:  #matches \n",
    "        co_occer = X_ik_skipgram[bigram]  #get the count from what we already counted\n",
    "        X_ik[bigram] = co_occer + 1 # + 1 for stability issue\n",
    "        X_ik[(bigram[1],bigram[0])] = co_occer+1   #count also for the opposite\n",
    "    else:\n",
    "        pass\n",
    "        \n",
    "    weighting_dic[bigram] = weighting(bigram[0], bigram[1], X_ik)\n",
    "    weighting_dic[(bigram[1], bigram[0])] = weighting(bigram[1], bigram[0], X_ik)\n",
    "\n",
    "print(f\"{X_ik=}\")\n",
    "print(f\"{weighting_dic=}\")\n"
   ]
  },
  {
   "cell_type": "markdown",
   "id": "31a82faf-5144-42b4-bf63-3ddd1eb9a70a",
   "metadata": {},
   "source": [
    "### Prepare train data"
   ]
  },
  {
   "cell_type": "code",
   "execution_count": 88,
   "id": "13d1a204-1d4f-48f6-83c2-fff927144eb1",
   "metadata": {},
   "outputs": [],
   "source": [
    "import math\n",
    "\n",
    "def random_batch(batch_size, word_sequence, skip_grams, X_ik, weighting_dic):\n",
    "    \n",
    "    #convert to id since our skip_grams is word, not yet id\n",
    "    skip_grams_id = [(word2index[skip_gram[0]], word2index[skip_gram[1]]) for skip_gram in skip_grams]\n",
    "    \n",
    "    random_inputs = []\n",
    "    random_labels = []\n",
    "    random_coocs  = []\n",
    "    random_weightings = []\n",
    "    random_index = np.random.choice(range(len(skip_grams_id)), batch_size, replace=False) #randomly pick without replacement\n",
    "        \n",
    "    for i in random_index:\n",
    "        random_inputs.append([skip_grams_id[i][0]])  # target, e.g., 2\n",
    "        random_labels.append([skip_grams_id[i][1]])  # context word, e.g., 3\n",
    "        \n",
    "        #get cooc\n",
    "        pair = skip_grams[i]\n",
    "        try:\n",
    "            cooc = X_ik[pair]\n",
    "        except:\n",
    "            cooc = 1\n",
    "        random_coocs.append([math.log(cooc)])\n",
    "        \n",
    "        #get weighting\n",
    "        weighting = weighting_dic[pair]\n",
    "        random_weightings.append([weighting])\n",
    "                    \n",
    "    return np.array(random_inputs), np.array(random_labels), np.array(random_coocs), np.array(random_weightings)"
   ]
  },
  {
   "cell_type": "markdown",
   "id": "0f4458c0-4f83-472c-879e-3c033dcf4739",
   "metadata": {},
   "source": [
    "### Testing the method"
   ]
  },
  {
   "cell_type": "code",
   "execution_count": 89,
   "id": "388721cd-8d83-40ff-9c01-950da4af6feb",
   "metadata": {},
   "outputs": [
    {
     "name": "stdout",
     "output_type": "stream",
     "text": [
      "Input:  [[607]\n",
      " [607]]\n",
      "Target:  [[746]\n",
      " [607]]\n",
      "Cooc:  [[0.69314718]\n",
      " [2.30258509]]\n",
      "Weighting:  [[0.05318296]\n",
      " [0.17782794]]\n"
     ]
    }
   ],
   "source": [
    "#testing the method\n",
    "batch_size = 2 # mini-batch size\n",
    "input_batch, target_batch, cooc_batch, weighting_batch = random_batch(batch_size, corpus, skip_grams, X_ik, weighting_dic)\n",
    "\n",
    "print(\"Input: \", input_batch)\n",
    "print(\"Target: \", target_batch)\n",
    "print(\"Cooc: \", cooc_batch)\n",
    "print(\"Weighting: \", weighting_batch)\n",
    "\n",
    "#we will convert them to tensor during training, so don't worry..."
   ]
  },
  {
   "cell_type": "markdown",
   "id": "4edfa2b3-c218-476a-95eb-737ae70d5b8a",
   "metadata": {
    "tags": []
   },
   "source": [
    "### Model"
   ]
  },
  {
   "cell_type": "code",
   "execution_count": 90,
   "id": "67200499-efa5-4531-80cb-a4cc413d8396",
   "metadata": {},
   "outputs": [],
   "source": [
    "class GloVe(nn.Module):\n",
    "    \n",
    "    def __init__(self, vocab_size,embed_size):\n",
    "        super(GloVe,self).__init__()\n",
    "        self.embedding_v = nn.Embedding(vocab_size, embed_size) # center embedding\n",
    "        self.embedding_u = nn.Embedding(vocab_size, embed_size) # out embedding\n",
    "        \n",
    "        self.v_bias = nn.Embedding(vocab_size, 1)\n",
    "        self.u_bias = nn.Embedding(vocab_size, 1)\n",
    "        \n",
    "    def forward(self, center_words, target_words, coocs, weighting):\n",
    "        center_embeds = self.embedding_v(center_words) # [batch_size, 1, emb_size]\n",
    "        target_embeds = self.embedding_u(target_words) # [batch_size, 1, emb_size]\n",
    "        \n",
    "        center_bias = self.v_bias(center_words).squeeze(1)\n",
    "        target_bias = self.u_bias(target_words).squeeze(1)\n",
    "        \n",
    "        inner_product = target_embeds.bmm(center_embeds.transpose(1, 2)).squeeze(2)\n",
    "        #[batch_size, 1, emb_size] @ [batch_size, emb_size, 1] = [batch_size, 1, 1] = [batch_size, 1]\n",
    "        \n",
    "        #note that coocs already got log\n",
    "        loss = weighting*torch.pow(inner_product +center_bias + target_bias - coocs, 2)\n",
    "        \n",
    "        return torch.sum(loss)"
   ]
  },
  {
   "cell_type": "markdown",
   "id": "cd313d89-ec61-44d1-9859-55a4d7afc9a9",
   "metadata": {},
   "source": [
    "### Training"
   ]
  },
  {
   "cell_type": "code",
   "execution_count": 91,
   "id": "9eda2fd6-f297-457c-a4d9-3b5bdca38f94",
   "metadata": {},
   "outputs": [],
   "source": [
    "batch_size     = 2 # mini-batch size\n",
    "embedding_size = 2 #so we can later plot\n",
    "modelGl          = GloVe(voc_size, embedding_size)\n",
    "\n",
    "criterion = nn.CrossEntropyLoss()\n",
    "optimizer = optim.Adam(modelGl.parameters(), lr=0.001)"
   ]
  },
  {
   "cell_type": "code",
   "execution_count": 92,
   "id": "91fb0585-d562-4f3f-a330-4f504784e53b",
   "metadata": {},
   "outputs": [],
   "source": [
    "def epoch_time(start_time, end_time):\n",
    "    elapsed_time = end_time - start_time\n",
    "    elapsed_mins = int(elapsed_time / 60)\n",
    "    elapsed_secs = int(elapsed_time - (elapsed_mins * 60))\n",
    "    return elapsed_mins, elapsed_secs"
   ]
  },
  {
   "cell_type": "code",
   "execution_count": 93,
   "id": "337f7a25-a7eb-4383-aad2-399d1a8b4057",
   "metadata": {},
   "outputs": [
    {
     "name": "stdout",
     "output_type": "stream",
     "text": [
      "Epoch: 1000 | cost: 0.000498 | time: 0m 0s\n",
      "Epoch: 2000 | cost: 0.001753 | time: 0m 0s\n",
      "Epoch: 3000 | cost: 0.054820 | time: 0m 0s\n",
      "Epoch: 4000 | cost: 0.000638 | time: 0m 0s\n",
      "Epoch: 5000 | cost: 0.000216 | time: 0m 0s\n"
     ]
    }
   ],
   "source": [
    "import time\n",
    "\n",
    "# Training\n",
    "num_epochs = 5000\n",
    "for epoch in range(num_epochs):\n",
    "    \n",
    "    start = time.time()\n",
    "    \n",
    "    input_batch, target_batch, cooc_batch, weighting_batch = random_batch(batch_size, corpus, skip_grams, X_ik, weighting_dic)\n",
    "    input_batch  = torch.LongTensor(input_batch)         #[batch_size, 1]\n",
    "    target_batch = torch.LongTensor(target_batch)        #[batch_size, 1]\n",
    "    cooc_batch   = torch.FloatTensor(cooc_batch)         #[batch_size, 1]\n",
    "    weighting_batch = torch.FloatTensor(weighting_batch) #[batch_size, 1]\n",
    "    \n",
    "    optimizer.zero_grad()\n",
    "    loss = modelGl(input_batch, target_batch, cooc_batch, weighting_batch)\n",
    "    \n",
    "    loss.backward()\n",
    "    optimizer.step()\n",
    "    \n",
    "    end = time.time()\n",
    "    \n",
    "    epoch_mins, epoch_secs = epoch_time(start, end)\n",
    "\n",
    "    if (epoch + 1) % 1000 == 0:\n",
    "        print(f\"Epoch: {epoch + 1} | cost: {loss:.6f} | time: {epoch_mins}m {epoch_secs}s\")\n"
   ]
  },
  {
   "cell_type": "markdown",
   "id": "30cdd37e-042a-417a-a878-cdedf6e961df",
   "metadata": {},
   "source": [
    "### Plotting the embeddings"
   ]
  },
  {
   "cell_type": "code",
   "execution_count": 94,
   "id": "5c93a32d-ba56-4d6c-9b29-c7c1e0b81c19",
   "metadata": {},
   "outputs": [
    {
     "data": {
      "text/plain": [
       "['stepdaughter',\n",
       " 'furious',\n",
       " 'heavier',\n",
       " 'wide',\n",
       " 'Germany',\n",
       " 'Plano',\n",
       " 'rapidly',\n",
       " 'deeper',\n",
       " 'rational',\n",
       " 'Taipei']"
      ]
     },
     "execution_count": 94,
     "metadata": {},
     "output_type": "execute_result"
    }
   ],
   "source": [
    "#list of vocabs\n",
    "vocab[:10]"
   ]
  },
  {
   "cell_type": "code",
   "execution_count": 95,
   "id": "70a37257-7494-467d-b805-6f2404067c25",
   "metadata": {},
   "outputs": [],
   "source": [
    "word = vocab[0]"
   ]
  },
  {
   "cell_type": "code",
   "execution_count": 96,
   "id": "8bb1cc55-dd78-4533-9892-dfdf64e3c70a",
   "metadata": {},
   "outputs": [
    {
     "data": {
      "text/plain": [
       "0"
      ]
     },
     "execution_count": 96,
     "metadata": {},
     "output_type": "execute_result"
    }
   ],
   "source": [
    "#numericalization\n",
    "id = word2index[word]\n",
    "id"
   ]
  },
  {
   "cell_type": "code",
   "execution_count": 97,
   "id": "207abbca-23ca-4380-9a71-93d5465300f3",
   "metadata": {},
   "outputs": [
    {
     "data": {
      "text/plain": [
       "tensor([0])"
      ]
     },
     "execution_count": 97,
     "metadata": {},
     "output_type": "execute_result"
    }
   ],
   "source": [
    "id_tensor = torch.LongTensor([id])\n",
    "id_tensor"
   ]
  },
  {
   "cell_type": "code",
   "execution_count": 98,
   "id": "78ac1548-f61a-496f-8551-fc41e73c3147",
   "metadata": {},
   "outputs": [
    {
     "data": {
      "text/plain": [
       "(tensor([[-0.1092,  0.4419]], grad_fn=<EmbeddingBackward0>),\n",
       " tensor([[-0.1808,  1.4376]], grad_fn=<EmbeddingBackward0>))"
      ]
     },
     "execution_count": 98,
     "metadata": {},
     "output_type": "execute_result"
    }
   ],
   "source": [
    "#get the embedding by averaging\n",
    "v_embed = modelGl.embedding_v(id_tensor)\n",
    "u_embed = modelGl.embedding_u(id_tensor)\n",
    "\n",
    "v_embed, u_embed"
   ]
  },
  {
   "cell_type": "code",
   "execution_count": 99,
   "id": "0dc35e13-cd41-402f-af8b-6ee28cb508c4",
   "metadata": {},
   "outputs": [
    {
     "data": {
      "text/plain": [
       "tensor(0.9397, grad_fn=<SelectBackward0>)"
      ]
     },
     "execution_count": 99,
     "metadata": {},
     "output_type": "execute_result"
    }
   ],
   "source": [
    "#average to get the word embedding\n",
    "word_embed = (v_embed + u_embed) / 2\n",
    "word_embed[0][1]"
   ]
  },
  {
   "cell_type": "code",
   "execution_count": 100,
   "id": "66d67e26-c6dd-4876-b725-dcde85aaa59a",
   "metadata": {},
   "outputs": [],
   "source": [
    "#let's write a function to get embedding given a word\n",
    "def get_embed(word):\n",
    "    id_tensor = torch.LongTensor([word2index[word]])\n",
    "    v_embed = modelGl.embedding_v(id_tensor)\n",
    "    u_embed = modelGl.embedding_u(id_tensor) \n",
    "    word_embed = (v_embed + u_embed) / 2 \n",
    "    x, y = word_embed[0][0].item(), word_embed[0][1].item()\n",
    "\n",
    "    return x, y"
   ]
  },
  {
   "cell_type": "code",
   "execution_count": 101,
   "id": "85bbc247-4d94-4210-a46b-e6994eaf8210",
   "metadata": {},
   "outputs": [
    {
     "data": {
      "image/png": "[encoded data removed]",
      "text/plain": [
       "<Figure size 432x216 with 1 Axes>"
      ]
     },
     "metadata": {
      "needs_background": "light"
     },
     "output_type": "display_data"
    }
   ],
   "source": [
    "plt.figure(figsize=(6,3))\n",
    "for i, word in enumerate(vocab[:20]): #loop each unique vocab\n",
    "    x, y = get_embed(word)\n",
    "    plt.scatter(x, y)\n",
    "    plt.annotate(word, xy=(x, y), xytext=(5, 2), textcoords='offset points')\n",
    "plt.show()"
   ]
  },
  {
   "cell_type": "markdown",
   "id": "354c09af-ccb0-405c-8d47-bd6c333f1a83",
   "metadata": {},
   "source": [
    "### Compare them based on syntactic accuracy and semantic accuracy"
   ]
  },
  {
   "cell_type": "markdown",
   "id": "cfa19bf0-3970-429b-9183-4967d81039e9",
   "metadata": {},
   "source": [
    "TBH, I am not sure how to do this, but I will try anyway."
   ]
  },
  {
   "cell_type": "code",
   "execution_count": 102,
   "id": "ed96fa21-bad3-436c-a3c7-70426aadbd18",
   "metadata": {},
   "outputs": [
    {
     "data": {
      "text/plain": [
       "[['Athens', 'Greece', 'Baghdad', 'Iraq'],\n",
       " ['Athens', 'Greece', 'Bangkok', 'Thailand'],\n",
       " ['Athens', 'Greece', 'Beijing', 'China'],\n",
       " ['Athens', 'Greece', 'Berlin', 'Germany'],\n",
       " ['Athens', 'Greece', 'Bern', 'Switzerland']]"
      ]
     },
     "execution_count": 102,
     "metadata": {},
     "output_type": "execute_result"
    }
   ],
   "source": [
    "corpus_tokenised[1:6]"
   ]
  },
  {
   "cell_type": "code",
   "execution_count": 103,
   "id": "c588f63c-7bc7-4ba1-989f-269670a8944a",
   "metadata": {},
   "outputs": [
    {
     "data": {
      "text/plain": [
       "(SkipgramNeg(\n",
       "   (embedding_centre_word): Embedding(939, 10)\n",
       "   (embedding_outside_word): Embedding(939, 10)\n",
       "   (logsigmoid): LogSigmoid()\n",
       " ),\n",
       " Skipgram(\n",
       "   (embedding_centre_word): Embedding(939, 10)\n",
       "   (embedding_outside_word): Embedding(939, 10)\n",
       " ),\n",
       " CBOW(\n",
       "   (embedding_centre_word): Embedding(939, 10)\n",
       "   (embedding_outside_word): Embedding(939, 10)\n",
       "   (logsigmoid): LogSigmoid()\n",
       " ),\n",
       " GloVe(\n",
       "   (embedding_v): Embedding(938, 2)\n",
       "   (embedding_u): Embedding(938, 2)\n",
       "   (v_bias): Embedding(938, 1)\n",
       "   (u_bias): Embedding(938, 1)\n",
       " ))"
      ]
     },
     "execution_count": 103,
     "metadata": {},
     "output_type": "execute_result"
    }
   ],
   "source": [
    "modelSkNeg, modelSk, modelCB, modelGl"
   ]
  },
  {
   "cell_type": "code",
   "execution_count": 104,
   "id": "0c47d45b-98a5-46aa-8cdf-d938fe32f884",
   "metadata": {},
   "outputs": [],
   "source": [
    "def random_batch(batch_size, corpus):\n",
    "    \n",
    "    skipgrams = []\n",
    "\n",
    "    for sent in corpus:\n",
    "        for i in range(2, len(sent) - 2): #start from 2 to third last for window size = 2\n",
    "            centre_word = word2index[sent[i]]\n",
    "            outside_words = []\n",
    "            for j in np.ravel([sent[i - 2:i],sent[i + 1: i + 3]]):\n",
    "                outside_words.append(word2index[j])  #window_size = 2\n",
    "            for o in outside_words:\n",
    "                skipgrams.append([centre_word, o])\n",
    "                \n",
    "    #only get a batch, not the entire list\n",
    "    random_index = np.random.choice(range(len(skipgrams)), batch_size, replace=False)\n",
    "    #appending some list of inputs and labels\n",
    "    random_inputs, random_labels = [], []   \n",
    "    for index in random_index:\n",
    "        random_inputs.append([skipgrams[index][0]])  #center words, this will be a shape of (1, ) --> (1, 1) for modeling\n",
    "        random_labels.append([skipgrams[index][1]])\n",
    "        \n",
    "    return np.array(random_inputs), np.array(random_labels)"
   ]
  },
  {
   "cell_type": "code",
   "execution_count": 105,
   "id": "ac390cd4-0ade-4d5b-8f44-44e24ac2d979",
   "metadata": {},
   "outputs": [],
   "source": [
    "import math\n",
    "\n",
    "def random_batchGl(batch_size, word_sequence, skip_grams, X_ik, weighting_dic):\n",
    "    \n",
    "    #convert to id since our skip_grams is word, not yet id\n",
    "    skip_grams_id = [(word2index[skip_gram[0]], word2index[skip_gram[1]]) for skip_gram in skip_grams]\n",
    "    \n",
    "    random_inputs = []\n",
    "    random_labels = []\n",
    "    random_coocs  = []\n",
    "    random_weightings = []\n",
    "    random_index = np.random.choice(range(len(skip_grams_id)), batch_size, replace=False) #randomly pick without replacement\n",
    "        \n",
    "    for i in random_index:\n",
    "        random_inputs.append([skip_grams_id[i][0]])  # target, e.g., 2\n",
    "        random_labels.append([skip_grams_id[i][1]])  # context word, e.g., 3\n",
    "        \n",
    "        #get cooc\n",
    "        pair = skip_grams[i]\n",
    "        try:\n",
    "            cooc = X_ik[pair]\n",
    "        except:\n",
    "            cooc = 1\n",
    "        random_coocs.append([math.log(cooc)])\n",
    "        \n",
    "        #get weighting\n",
    "        weighting = weighting_dic[pair]\n",
    "        random_weightings.append([weighting])\n",
    "                    \n",
    "    return np.array(random_inputs), np.array(random_labels), np.array(random_coocs), np.array(random_weightings)"
   ]
  },
  {
   "cell_type": "markdown",
   "id": "19c3ba7d-c0ed-4d9e-8aa8-d4d5eedda100",
   "metadata": {},
   "source": [
    "#### syntactic accuracy"
   ]
  },
  {
   "cell_type": "code",
   "execution_count": 106,
   "id": "829da2ac-4c8e-4e4f-b536-f2ac8224c4c3",
   "metadata": {},
   "outputs": [
    {
     "name": "stdout",
     "output_type": "stream",
     "text": [
      "loss Skipgram: 17.477577209472656\n",
      "loss Skipgram Neg: 1690.981689453125\n",
      "loss CBOW: 1345.9429931640625\n",
      "loss GloVe: 0.3253587484359741\n"
     ]
    }
   ],
   "source": [
    "num_epochs = 3000 # I tried 5000 and it was nan. IDK why.\n",
    "startp = time.time()\n",
    "lossSk = 0\n",
    "lossSkNeg = 0\n",
    "lossCB = 0\n",
    "lossGl = 0\n",
    "batch_size = 2\n",
    "#for epoch\n",
    "for epoch in range(num_epochs):\n",
    "    input_batch, label_batch = random_batch(batch_size, corpus_tokenised)\n",
    "    input_batch = torch.LongTensor(input_batch)\n",
    "    label_batch = torch.LongTensor(label_batch)\n",
    "    \n",
    "    input_batchG, target_batchG, cooc_batch, weighting_batch = random_batchGl(batch_size, corpus, skip_grams, X_ik, weighting_dic)\n",
    "    input_batchG  = torch.LongTensor(input_batch)\n",
    "    target_batchG = torch.LongTensor(target_batch)\n",
    "    cooc_batch   = torch.FloatTensor(cooc_batch)\n",
    "    weighting_batch = torch.FloatTensor(weighting_batch)\n",
    "    \n",
    "    # print(input_batch.shape, label_batch.shape, all_vocabs.shape)\n",
    "    \n",
    "    #loss = modelSk\n",
    "    lossSk += modelSk(input_batch, label_batch, all_vocabs)\n",
    "    lossSkNeg += modelSkNeg(input_batch, label_batch, all_vocabs)\n",
    "    lossCB += modelCB(input_batch, label_batch, all_vocabs)\n",
    "    lossGl += modelGl(input_batchG, target_batchG, cooc_batch, weighting_batch)\n",
    "print(f'loss Skipgram: {lossSk/num_epochs}\\nloss Skipgram Neg: {lossSkNeg/num_epochs}\\nloss CBOW: {lossCB/num_epochs}\\nloss GloVe: {lossGl/num_epochs}')"
   ]
  },
  {
   "cell_type": "markdown",
   "id": "2d4ec9ee-871f-41cb-b277-0fb1bcd559fe",
   "metadata": {},
   "source": [
    "#### semantic accuracy"
   ]
  },
  {
   "cell_type": "code",
   "execution_count": 107,
   "id": "83e9d3ed-17dc-44f0-b0cc-7240dd156d0a",
   "metadata": {},
   "outputs": [
    {
     "name": "stdout",
     "output_type": "stream",
     "text": [
      "loss Skipgram: 19.66742515563965\n",
      "loss Skipgram Neg: 1495.14404296875\n",
      "loss CBOW: 1604.5977783203125\n",
      "loss GloVe: 0.4675363004207611\n"
     ]
    }
   ],
   "source": [
    "num_epochs = 3000 # I tried 5000 and it was nan. IDK why.\n",
    "startp = time.time()\n",
    "lossSk = 0\n",
    "lossSkNeg = 0\n",
    "lossCB = 0\n",
    "lossGl = 0\n",
    "batch_size = 2\n",
    "#for epoch\n",
    "for epoch in range(num_epochs):\n",
    "    label_batch, input_batch  = random_batch(batch_size, corpus_tokenised)\n",
    "    input_batch = torch.LongTensor(input_batch)\n",
    "    label_batch = torch.LongTensor(label_batch)\n",
    "    \n",
    "    target_batchG, input_batchG, cooc_batch, weighting_batch = random_batchGl(batch_size, corpus, skip_grams, X_ik, weighting_dic)\n",
    "    input_batchG  = torch.LongTensor(input_batch)\n",
    "    target_batchG = torch.LongTensor(target_batch)\n",
    "    cooc_batch   = torch.FloatTensor(cooc_batch)\n",
    "    weighting_batch = torch.FloatTensor(weighting_batch)\n",
    "    \n",
    "    # print(input_batch.shape, label_batch.shape, all_vocabs.shape)\n",
    "    \n",
    "    #loss = modelSk\n",
    "    lossSk += modelSk(input_batch, label_batch, all_vocabs)\n",
    "    lossSkNeg += modelSkNeg(input_batch, label_batch, all_vocabs)\n",
    "    lossCB += modelCB(input_batch, label_batch, all_vocabs)\n",
    "    lossGl += modelGl(input_batchG, target_batchG, cooc_batch, weighting_batch)\n",
    "print(f'loss Skipgram: {lossSk/num_epochs}\\nloss Skipgram Neg: {lossSkNeg/num_epochs}\\nloss CBOW: {lossCB/num_epochs}\\nloss GloVe: {lossGl/num_epochs}')"
   ]
  },
  {
   "cell_type": "markdown",
   "id": "7c470633-52cf-4030-af75-9623e058e0c0",
   "metadata": {},
   "source": [
    "||Syntactic|Semantic|\n",
    "|:--|:--|:--|\n",
    "|Skipgram|17.477577209472656|19.66742515563965|\n",
    "|Skipgram Neg|1690.981689453125|1495.14404296875|\n",
    "|CBOW|1345.9429931640625|1604.5977783203125|\n",
    "|GloVe|0.3253587484359741|0.4675363004207611|"
   ]
  },
  {
   "cell_type": "code",
   "execution_count": null,
   "id": "99e548d3-2d67-4256-b505-84ba949d3250",
   "metadata": {},
   "outputs": [],
   "source": []
  }
 ],
 "metadata": {
  "kernelspec": {
   "display_name": "Python 3 (ipykernel)",
   "language": "python",
   "name": "python3"
  },
  "language_info": {
   "codemirror_mode": {
    "name": "ipython",
    "version": 3
   },
   "file_extension": ".py",
   "mimetype": "text/x-python",
   "name": "python",
   "nbconvert_exporter": "python",
   "pygments_lexer": "ipython3",
   "version": "3.9.7"
  }
 },
 "nbformat": 4,
 "nbformat_minor": 5
}
