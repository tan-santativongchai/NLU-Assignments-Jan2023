{
 "cells": [
  {
   "cell_type": "markdown",
   "id": "cc315cf1-28a7-4bf9-8942-2db41c3c8a6e",
   "metadata": {
    "tags": []
   },
   "source": [
    "# Word2Vec (Assignment)\n",
    "\n",
    "Assignment Instruction\n",
    "\n",
    "1.  Try a real corpus (instead of banana apple, try something real... on the internet....) - not so big!  Just so you have a good taste of real stuff....like 50 documents, each having 50 words...(really up to you)\n",
    "\n",
    "2. Try a window size of 2\n",
    "\n",
    "3. Implement CBOW (instead of skipgrams)\n",
    "\n",
    "4. Compare normal version of skipgrams vs. negative sampling version of skipgrams in terms of time (using real corpus)\n",
    "\n",
    "Point criteria:\n",
    "0: not done/copy directly from your friend (inspired is ok)\n",
    "1: ok\n",
    "2: with comments, and a nice explanation along the notebook (like how Chaky do his tutorial...)"
   ]
  },
  {
   "cell_type": "markdown",
   "id": "06832538-50aa-4cb0-aab7-47674e9aec68",
   "metadata": {},
   "source": [
    "I will use Negative sampling both skipgram."
   ]
  },
  {
   "cell_type": "code",
   "execution_count": 1,
   "id": "7f8c1012-f7eb-4a04-ba3a-5d6553ea50ad",
   "metadata": {},
   "outputs": [],
   "source": [
    "import numpy as np\n",
    "import torch\n",
    "import torch.nn as nn\n",
    "import torch.optim as optim\n",
    "import matplotlib.pyplot as plt\n",
    "import spacy\n",
    "import time"
   ]
  },
  {
   "cell_type": "code",
   "execution_count": 2,
   "id": "f2ca7235-30fc-456a-9312-6bbed9530087",
   "metadata": {},
   "outputs": [],
   "source": [
    "def epoch_time(start_time, end_time):\n",
    "    elapsed_time = end_time - start_time\n",
    "    elapsed_mins = int(elapsed_time / 60)\n",
    "    elapsed_secs = int(elapsed_time - (elapsed_mins * 60))\n",
    "    return elapsed_mins, elapsed_secs"
   ]
  },
  {
   "cell_type": "markdown",
   "id": "3689848b-ef94-482f-9dd0-0652e1e60cd2",
   "metadata": {},
   "source": [
    "### 1. Load data"
   ]
  },
  {
   "cell_type": "code",
   "execution_count": 3,
   "id": "a41db260-1b01-42c1-9a32-29bc65710f00",
   "metadata": {},
   "outputs": [],
   "source": [
    "# Load tokeniser from SpaCy. I will use only small version.\n",
    "\n",
    "tokeniser = spacy.load(\"en_core_web_sm\")"
   ]
  },
  {
   "cell_type": "code",
   "execution_count": 4,
   "id": "5b67071d-6fdc-48d3-b33c-ea4056547d2e",
   "metadata": {},
   "outputs": [],
   "source": [
    "#define corpus from real world messages.\n",
    "\n",
    "corpus = [\"The cat (Felis catus) is a domestic species of small carnivorous mammal. It is the only domesticated species in the family Felidae and is commonly referred to as the domestic cat or house cat to distinguish it from the wild members of the family. Cats are commonly kept as house pets but can also be farm cats or feral cats; the feral cat ranges freely and avoids human contact. Domestic cats are valued by humans for companionship and their ability to kill rodents. About 60 cat breeds are recognized by various cat registries.\",\n",
    "         \"The cat is similar in anatomy to the other felid species: it has a strong flexible body, quick reflexes, sharp teeth, and retractable claws adapted to killing small prey. Its night vision and sense of smell are well developed. Cat communication includes vocalizations like meowing, purring, trilling, hissing, growling, and grunting as well as cat-specific body language. Although the cat is a social species, it is a solitary hunter. As a predator, it is crepuscular, i.e. most active at dawn and dusk. It can hear sounds too faint or too high in frequency for human ears, such as those made by mice and other small mammals. It also secretes and perceives pheromones.\",\n",
    "         \"Female domestic cats can have kittens from spring to late autumn, with litter sizes often ranging from two to five kittens. Domestic cats are bred and shown at events as registered pedigreed cats, a hobby known as cat fancy. Population control of cats may be effected by spaying and neutering, but their proliferation and the abandonment of pets has resulted in large numbers of feral cats worldwide, contributing to the extinction of entire bird, mammal, and reptile species.\",\n",
    "         \"It was long thought that cat domestication began in ancient Egypt, where cats were venerated from around 3100 BC, but recent advances in archaeology and genetics have shown that their domestication occurred in Western Asia around 7500 BC.\",\n",
    "         \"As of 2021, there were an estimated 220 million owned and 480 million stray cats in the world. As of 2017, the domestic cat was the second most popular pet in the United States, with 95.6 million cats owned and around 42 million households owning at least one cat. In the United Kingdom, 26% of adults have a cat, with an estimated population of 10.9 million pet cats as of 2020.\",\n",
    "         \"The scientific name Felis catus was proposed by Carl Linnaeus in 1758 for a domestic cat. Felis catus domesticus was proposed by Johann Christian Polycarp Erxleben in 1777. Felis daemon proposed by Konstantin Satunin in 1904 was a black cat from the Transcaucasus, later identified as a domestic cat.\",\n",
    "         \"In 2003, the International Commission on Zoological Nomenclature ruled that the domestic cat is a distinct species, namely Felis catus. In 2007, it was considered a subspecies, F. silvestris catus, of the European wildcat (F. silvestris) following results of phylogenetic research. In 2017, the IUCN Cat Classification Taskforce followed the recommendation of the ICZN in regarding the domestic cat as a distinct species, Felis catus.\",\n",
    "         \"The domestic cat is a member of the Felidae, a family that had a common ancestor about 10–15 million years ago. The genus Felis diverged from other Felidae around 6–7 million years ago. Results of phylogenetic research confirm that the wild Felis species evolved through sympatric or parapatric speciation, whereas the domestic cat evolved through artificial selection. The domesticated cat and its closest wild ancestor are diploid and both possess 38 chromosomes and roughly 20,000 genes. The leopard cat (Prionailurus bengalensis) was tamed independently in China around 5500 BC. This line of partially domesticated cats leaves no trace in the domestic cat populations of today.\",\n",
    "         \"The earliest known indication for the taming of an African wildcat (F. lybica) was excavated close by a human Neolithic grave in Shillourokambos, southern Cyprus, dating to about 7500–7200 BC. Since there is no evidence of native mammalian fauna on Cyprus, the inhabitants of this Neolithic village most likely brought the cat and other wild mammals to the island from the Middle Eastern mainland.[48] Scientists therefore assume that African wildcats were attracted to early human settlements in the Fertile Crescent by rodents, in particular the house mouse (Mus musculus), and were tamed by Neolithic farmers. This mutual relationship between early farmers and tamed cats lasted thousands of years. As agricultural practices spread, so did tame and domesticated cats. Wildcats of Egypt contributed to the maternal gene pool of the domestic cat at a later time.\",\n",
    "         \"The earliest known evidence for the occurrence of the domestic cat in Greece dates to around 1200 BC. Greek, Phoenician, Carthaginian and Etruscan traders introduced domestic cats to southern Europe. During the Roman Empire they were introduced to Corsica and Sardinia before the beginning of the 1st millennium. By the 5th century BC, they were familiar animals around settlements in Magna Graecia and Etruria.[52] By the end of the Western Roman Empire in the 5th century, the Egyptian domestic cat lineage had arrived in a Baltic Sea port in northern Germany.\",\n",
    "         \"During domestication, cats have undergone only minor changes in anatomy and behavior, and they are still capable of surviving in the wild. Several natural behaviors and characteristics of wildcats may have pre-adapted them for domestication as pets. These traits include their small size, social nature, obvious body language, love of play and relatively high intelligence. Captive Leopardus cats may also display affectionate behavior toward humans but were not domesticated. House cats often mate with feral cats. Hybridisation between domestic and other Felinae species is also possible, producing hybrids such as the Kellas cat in Scotland.\",\n",
    "         \"Development of cat breeds started in the mid 19th century. An analysis of the domestic cat genome revealed that the ancestral wildcat genome was significantly altered in the process of domestication, as specific mutations were selected to develop cat breeds. Most breeds are founded on random-bred domestic cats. Genetic diversity of these breeds varies between regions, and is lowest in purebred populations, which show more than 20 deleterious genetic disorders.\",\n",
    "         \"The domestic cat has a smaller skull and shorter bones than the European wildcat. It averages about 46 cm (18 in) in head-to-body length and 23–25 cm (9–10 in) in height, with about 30 cm (12 in) long tails. Males are larger than females. Adult domestic cats typically weigh between 4 and 5 kg (9 and 11 lb).\",\n",
    "         \"Cats have seven cervical vertebrae (as do most mammals); 13 thoracic vertebrae (humans have 12); seven lumbar vertebrae (humans have five); three sacral vertebrae (as do most mammals, but humans have five); and a variable number of caudal vertebrae in the tail (humans have only three to five vestigial caudal vertebrae, fused into an internal coccyx). The extra lumbar and thoracic vertebrae account for the cat's spinal mobility and flexibility. Attached to the spine are 13 ribs, the shoulder, and the pelvis. Unlike human arms, cat forelimbs are attached to the shoulder by free-floating clavicle bones which allow them to pass their body through any space into which they can fit their head.\",\n",
    "         \"The cat skull is unusual among mammals in having very large eye sockets and a powerful specialized jaw.  Within the jaw, cats have teeth adapted for killing prey and tearing meat. When it overpowers its prey, a cat delivers a lethal neck bite with its two long canine teeth, inserting them between two of the prey's vertebrae and severing its spinal cord, causing irreversible paralysis and death. Compared to other felines, domestic cats have narrowly spaced canine teeth relative to the size of their jaw, which is an adaptation to their preferred prey of small rodents, which have small vertebrae.\",\n",
    "         \"The premolar and first molar together compose the carnassial pair on each side of the mouth, which efficiently shears meat into small pieces, like a pair of scissors. These are vital in feeding, since cats' small molars cannot chew food effectively, and cats are largely incapable of mastication.  Although cats tend to have better teeth than most humans, with decay generally less likely because of a thicker protective layer of enamel, a less damaging saliva, less retention of food particles between teeth, and a diet mostly devoid of sugar, they are nonetheless subject to occasional tooth loss and infection.\",\n",
    "         \"Cats have protractible and retractable claws. In their normal, relaxed position, the claws are sheathed with the skin and fur around the paw's toe pads. This keeps the claws sharp by preventing wear from contact with the ground and allows for the silent stalking of prey. The claws on the forefeet are typically sharper than those on the hindfeet. Cats can voluntarily extend their claws on one or more paws. They may extend their claws in hunting or self-defense, climbing, kneading, or for extra traction on soft surfaces. Cats shed the outside layer of their claw sheaths when scratching rough surfaces.\",\n",
    "         \"Most cats have five claws on their front paws and four on their rear paws. The dewclaw is proximal to the other claws. More proximally is a protrusion which appears to be a sixth \\\"finger\\\". This special feature of the front paws on the inside of the wrists has no function in normal walking but is thought to be an antiskidding device used while jumping. Some cat breeds are prone to having extra digits (\\\"polydactyly\\\"). Polydactylous cats occur along North America's northeast coast and in Great Britain.\",\n",
    "         \"The cat is digitigrade. It walks on the toes, with the bones of the feet making up the lower part of the visible leg. Unlike most mammals, it uses a \\\"pacing\\\" gait and moves both legs on one side of the body before the legs on the other side. It registers directly by placing each hind paw close to the track of the corresponding fore paw, minimizing noise and visible tracks. This also provides sure footing for hind paws when navigating rough terrain. As it speeds up from walking to trotting, its gait changes to a \\\"diagonal\\\" gait: The diagonally opposite hind and fore legs move simultaneously.\",\n",
    "         \"Most breeds of cat are notably fond of sitting in high places, or perching. A higher place may serve as a concealed site from which to hunt; domestic cats strike prey by pouncing from a perch such as a tree branch. Another possible explanation is that height gives the cat a better observation point, allowing it to survey its territory. A cat falling from heights of up to 3 meters (9.8 ft) can right itself and land on its paws.\",\n",
    "         \"During a fall from a high place, a cat reflexively twists its body and rights itself to land on its feet using its acute sense of balance and flexibility. This reflex is known as the cat righting reflex. A cat always rights itself in the same way during a fall, if it has enough time to do so, which is the case in falls of 90 cm (2 ft 11 in) or more. How cats are able to right themselves when falling has been investigated as the \\\"falling cat problem\\\".\",\n",
    "         \"The cat family (Felidae) can pass down many colors and patterns to their offsprings. The domestic cat genes MC1R and ASIP allow for the variety of color in coats. The feline ASIP gene consists of three coding exons. Three novel microsatellite markers linked to ASIP were isolated from a domestic cat BAC clone containing this gene and were used to perform linkage analysis in a pedigree of 89 domestic cats that segregated for melanism.\",\n",
    "         \"Cats have excellent night vision and can see at only one-sixth the light level required for human vision. This is partly the result of cat eyes having a tapetum lucidum, which reflects any light that passes through the retina back into the eye, thereby increasing the eye's sensitivity to dim light. Large pupils are an adaptation to dim light. The domestic cat has slit pupils, which allow it to focus bright light without chromatic aberration. At low light, a cat's pupils expand to cover most of the exposed surface of its eyes. The domestic cat has rather poor color vision and only two types of cone cells, optimized for sensitivity to blue and yellowish green; its ability to distinguish between red and green is limited. A response to middle wavelengths from a system other than the rod cells might be due to a third type of cone. This appears to be an adaptation to low light levels rather than representing true trichromatic vision. Cats also have a nictitating membrane, allowing them to blink without hindering their vision.\",\n",
    "         \"The domestic cat's hearing is most acute in the range of 500 Hz to 32 kHz. It can detect an extremely broad range of frequencies ranging from 55 Hz to 79 kHz. It can hear a range of 10.5 octaves, while humans and dogs can hear ranges of about 9 octaves. Its hearing sensitivity is enhanced by its large movable outer ears, the pinnae, which amplify sounds and help detect the location of a noise. It can detect ultrasound, which enables it to detect ultrasonic calls made by rodent prey. Recent research has shown that cats have socio-spatial cognitive abilities to create mental maps of owners' locations based on hearing owners' voices.\",\n",
    "         \"Cats have an acute sense of smell, due in part to their well-developed olfactory bulb and a large surface of olfactory mucosa, about 5.8 square centimetres (29⁄32 square inch) in area, which is about twice that of humans. Cats and many other animals have a Jacobson's organ in their mouths that is used in the behavioral process of flehmening. It allows them to sense certain aromas in a way that humans cannot. Cats are sensitive to pheromones such as 3-mercapto-3-methylbutan-1-ol, which they use to communicate through urine spraying and marking with scent glands. Many cats also respond strongly to plants that contain nepetalactone, especially catnip, as they can detect that substance at less than one part per billion. About 70–80% of cats are affected by nepetalactone. This response is also produced by other plants, such as silver vine (Actinidia polygama) and the herb valerian; it may be caused by the smell of these plants mimicking a pheromone and stimulating cats' social or sexual behaviors.\",\n",
    "         \"Cats have relatively few taste buds compared to humans (470 or so versus more than 9,000 on the human tongue).[97] Domestic and wild cats share a taste receptor gene mutation that keeps their sweet taste buds from binding to sugary molecules, leaving them with no ability to taste sweetness. Their taste buds instead respond to acids, amino acids like protein, and bitter tastes. Cats also have a distinct temperature preference for their food, preferring food with a temperature around 38 °C (100 °F) which is similar to that of a fresh kill and routinely rejecting food presented cold or refrigerated (which would signal to the cat that the \\\"prey\\\" item is long dead and therefore possibly toxic or decomposing).\",\n",
    "         \"To aid with navigation and sensation, cats have dozens of movable whiskers (vibrissae) over their body, especially their faces. These provide information on the width of gaps and on the location of objects in the dark, both by touching objects directly and by sensing air currents; they also trigger protective blink reflexes to protect the eyes from damage.\"]\n",
    "\n",
    "corpus_tokenised = []\n",
    "for i in range(len(corpus)):\n",
    "    corpus_tokenised.append([str(token) for token in tokeniser([c for c in corpus][i])])\n",
    "# corpus_tokenised"
   ]
  },
  {
   "cell_type": "code",
   "execution_count": 5,
   "id": "00f7f809-e735-4e1c-b2ba-28b1444b2518",
   "metadata": {},
   "outputs": [
    {
     "data": {
      "text/plain": [
       "109"
      ]
     },
     "execution_count": 5,
     "metadata": {},
     "output_type": "execute_result"
    }
   ],
   "source": [
    "#delete duplicate word define as vocabs, also include unknow as <UNK>.\n",
    "flatten = lambda l: [item for sublist in l for item in sublist]\n",
    "vocabs  = list(set(flatten(corpus_tokenised)))\n",
    "vocabs.append('<UNK>') # to let '<UNK>' become the last.\n",
    "word2index = {v: idx+1 for idx, v in enumerate(vocabs)} #plus one to shift value in word index to assign <UNK>'s value to 0 without duplication with others.\n",
    "word2index['<UNK>'] = 0\n",
    "\n",
    "#Let check word to index's value\n",
    "word2index[\"cat\"]"
   ]
  },
  {
   "cell_type": "code",
   "execution_count": 6,
   "id": "4934c2dc-6e6d-49fc-a38b-e5fea886ed4b",
   "metadata": {},
   "outputs": [
    {
     "data": {
      "text/plain": [
       "'coast'"
      ]
     },
     "execution_count": 6,
     "metadata": {},
     "output_type": "execute_result"
    }
   ],
   "source": [
    "# Create index to word\n",
    "index2word = {v:k for k, v in word2index.items()}\n",
    "\n",
    "index2word[50]"
   ]
  },
  {
   "cell_type": "markdown",
   "id": "19715136-4470-4bff-8035-9a9a84206679",
   "metadata": {
    "tags": []
   },
   "source": [
    "### 2. Prepare train data"
   ]
  },
  {
   "cell_type": "code",
   "execution_count": 7,
   "id": "839cb11d-4e10-49d4-9a79-7a98014545e9",
   "metadata": {},
   "outputs": [
    {
     "data": {
      "text/plain": [
       "[['(', 'The'],\n",
       " ['(', 'cat'],\n",
       " ['(', 'Felis'],\n",
       " ['(', 'catus'],\n",
       " ['Felis', 'cat'],\n",
       " ['Felis', '('],\n",
       " ['Felis', 'catus'],\n",
       " ['Felis', ')'],\n",
       " ['catus', '('],\n",
       " ['catus', 'Felis'],\n",
       " ['catus', ')'],\n",
       " ['catus', 'is'],\n",
       " [')', 'Felis'],\n",
       " [')', 'catus'],\n",
       " [')', 'is'],\n",
       " [')', 'a'],\n",
       " ['is', 'catus'],\n",
       " ['is', ')'],\n",
       " ['is', 'a'],\n",
       " ['is', 'domestic'],\n",
       " ['a', ')'],\n",
       " ['a', 'is'],\n",
       " ['a', 'domestic'],\n",
       " ['a', 'species'],\n",
       " ['domestic', 'is'],\n",
       " ['domestic', 'a'],\n",
       " ['domestic', 'species'],\n",
       " ['domestic', 'of'],\n",
       " ['species', 'a'],\n",
       " ['species', 'domestic'],\n",
       " ['species', 'of'],\n",
       " ['species', 'small'],\n",
       " ['of', 'domestic'],\n",
       " ['of', 'species'],\n",
       " ['of', 'small'],\n",
       " ['of', 'carnivorous'],\n",
       " ['small', 'species'],\n",
       " ['small', 'of'],\n",
       " ['small', 'carnivorous'],\n",
       " ['small', 'mammal'],\n",
       " ['carnivorous', 'of'],\n",
       " ['carnivorous', 'small'],\n",
       " ['carnivorous', 'mammal'],\n",
       " ['carnivorous', '.'],\n",
       " ['mammal', 'small'],\n",
       " ['mammal', 'carnivorous'],\n",
       " ['mammal', '.'],\n",
       " ['mammal', 'It'],\n",
       " ['.', 'carnivorous'],\n",
       " ['.', 'mammal']]"
      ]
     },
     "execution_count": 7,
     "metadata": {},
     "output_type": "execute_result"
    }
   ],
   "source": [
    "skipgrams = []\n",
    "\n",
    "#for each corpus\n",
    "for sent in corpus_tokenised:\n",
    "    #for each sent [\"apple\", \"banana\", \"fruit\"]\n",
    "    for i in range(2, len(sent) - 2): # start from 1 to second last but we use window size of 2, then first centre word should be at index 2\n",
    "        center_word = sent[i]\n",
    "        outside_words = np.ravel([sent[i - 2:i],sent[i+1: i + 3]])  # window_size = 2\n",
    "        for o in outside_words:\n",
    "            skipgrams.append([center_word, o])\n",
    "\n",
    "skipgrams[:50] #shows only sample 50 elements"
   ]
  },
  {
   "cell_type": "code",
   "execution_count": 8,
   "id": "0e442e68-4612-4bce-ac3d-cd52b65bb082",
   "metadata": {},
   "outputs": [],
   "source": [
    "def random_batch(batch_size, corpus):\n",
    "    \n",
    "    skipgrams = []\n",
    "\n",
    "    for sent in corpus:\n",
    "        for i in range(2, len(sent) - 2): #start from 2 to third last for window size = 2\n",
    "            centre_word = word2index[sent[i]]\n",
    "            outside_words = []\n",
    "            for j in np.ravel([sent[i - 2:i],sent[i + 1: i + 3]]):\n",
    "                outside_words.append(word2index[j])  #window_size = 2\n",
    "            for o in outside_words:\n",
    "                skipgrams.append([centre_word, o])\n",
    "                \n",
    "    #only get a batch, not the entire list\n",
    "    random_index = np.random.choice(range(len(skipgrams)), batch_size, replace=False)\n",
    "    #appending some list of inputs and labels\n",
    "    random_inputs, random_labels = [], []   \n",
    "    for index in random_index:\n",
    "        random_inputs.append([skipgrams[index][0]])  #center words, this will be a shape of (1, ) --> (1, 1) for modeling\n",
    "        random_labels.append([skipgrams[index][1]])\n",
    "        \n",
    "    return np.array(random_inputs), np.array(random_labels)"
   ]
  },
  {
   "cell_type": "code",
   "execution_count": 9,
   "id": "91df28c8-4579-4a75-95ac-e355ba35052b",
   "metadata": {},
   "outputs": [
    {
     "name": "stdout",
     "output_type": "stream",
     "text": [
      "(10, 1)\n",
      "label=array([[  89],\n",
      "       [1007],\n",
      "       [1007],\n",
      "       [ 684],\n",
      "       [ 363],\n",
      "       [ 927],\n",
      "       [ 335],\n",
      "       [1043],\n",
      "       [ 320],\n",
      "       [  60]])\n"
     ]
    }
   ],
   "source": [
    "input, label = random_batch(10, corpus_tokenised)\n",
    "\n",
    "print(f\"{input.shape}\")\n",
    "print(f\"{label=}\")"
   ]
  },
  {
   "cell_type": "markdown",
   "id": "117023ba-2646-4604-9fe1-2d66d96b60bb",
   "metadata": {},
   "source": [
    "### 3. Unigram distribution\n",
    "\n",
    "$$P(w)=U(w)^{3/4}/Z$$\n",
    "\n",
    "Defining the probability of sampling negative words"
   ]
  },
  {
   "cell_type": "code",
   "execution_count": 10,
   "id": "ae427673-9360-4a92-a388-c349c5b79f73",
   "metadata": {},
   "outputs": [],
   "source": [
    "from collections import Counter\n",
    "\n",
    "word_count = Counter(flatten(corpus_tokenised))\n",
    "# word_count # Showing word count"
   ]
  },
  {
   "cell_type": "code",
   "execution_count": 11,
   "id": "9eb29e54-17f9-47e5-974d-47ef6a700f1d",
   "metadata": {},
   "outputs": [
    {
     "data": {
      "text/plain": [
       "2898"
      ]
     },
     "execution_count": 11,
     "metadata": {},
     "output_type": "execute_result"
    }
   ],
   "source": [
    "num_total_words = sum([c for w, c in word_count.items()])\n",
    "num_total_words"
   ]
  },
  {
   "cell_type": "code",
   "execution_count": 12,
   "id": "d36deb1a-d578-4439-9279-ad8f9a2c8fd2",
   "metadata": {},
   "outputs": [],
   "source": [
    "z = 0.001  #scaling up low frequency terms\n",
    "unigram_table = []\n",
    "\n",
    "# create loop for the P(w) formula\n",
    "for v in vocabs:\n",
    "    uw = word_count[v]/num_total_words\n",
    "    uw_alpha = uw ** (3/4)\n",
    "    uw_alpha_dividebyz = int(uw_alpha / z)\n",
    "    unigram_table.extend([v] * uw_alpha_dividebyz)\n",
    "    \n",
    "# Counter(unigram_table)"
   ]
  },
  {
   "cell_type": "markdown",
   "id": "0648a416-f885-46cb-bbbf-4464f3e738e9",
   "metadata": {},
   "source": [
    "### 4. Negative sampling"
   ]
  },
  {
   "cell_type": "code",
   "execution_count": 13,
   "id": "cc3179db-a5e4-4e09-aef2-b35dac97ee17",
   "metadata": {},
   "outputs": [],
   "source": [
    "def prepare_sequence(seq, word2index):\n",
    "    idxs = list(map(lambda w: word2index[w] if word2index.get(w) is not None else word2index[\"<UNK>\"], seq))\n",
    "    return torch.LongTensor(idxs)"
   ]
  },
  {
   "cell_type": "code",
   "execution_count": 14,
   "id": "1b3cb074-fd05-4223-a780-9adfc01470b3",
   "metadata": {},
   "outputs": [],
   "source": [
    "import random\n",
    "\n",
    "def negative_sampling(targets, unigram_table, k):\n",
    "    \n",
    "    batch_size = targets.shape[0]\n",
    "    neg_samples = []\n",
    "    \n",
    "    for i in range(batch_size):\n",
    "        #randomly pick k negative words from unigram_table\n",
    "        target_index = targets[i].item()  #looping each of the batch....\n",
    "        nsample = []\n",
    "        while len(nsample) < k:\n",
    "            neg = random.choice(unigram_table)\n",
    "            #if this word == target, skip this word\n",
    "            if word2index[neg] == target_index:\n",
    "                continue\n",
    "            nsample.append(neg)\n",
    "        #append this word to some list\n",
    "        neg_samples.append(prepare_sequence(nsample, word2index).reshape(1, -1))  #tensor[], tensor[]\n",
    "    return torch.cat(neg_samples)"
   ]
  },
  {
   "cell_type": "code",
   "execution_count": 15,
   "id": "6149da4a-00db-49f4-ba35-494e3e8aee72",
   "metadata": {},
   "outputs": [
    {
     "data": {
      "text/plain": [
       "(array([[431],\n",
       "        [205]]),\n",
       " array([[272],\n",
       "        [912]]))"
      ]
     },
     "execution_count": 15,
     "metadata": {},
     "output_type": "execute_result"
    }
   ],
   "source": [
    "batch_size = 2\n",
    "input_batch, label_batch = random_batch(batch_size, corpus_tokenised)\n",
    "\n",
    "input_batch, label_batch"
   ]
  },
  {
   "cell_type": "code",
   "execution_count": 16,
   "id": "d70845bb-5dcf-40a6-9ba6-78c57f395f89",
   "metadata": {},
   "outputs": [],
   "source": [
    "# Convert to Tensor\n",
    "\n",
    "input_batch = torch.LongTensor(input_batch)\n",
    "label_batch = torch.LongTensor(label_batch)"
   ]
  },
  {
   "cell_type": "code",
   "execution_count": 17,
   "id": "10459369-7b8d-4553-97d6-0f90cf452bab",
   "metadata": {},
   "outputs": [],
   "source": [
    "num_neg = 10  # I will try 10 as in the paper.\n",
    "neg_samples = negative_sampling(label_batch, unigram_table, num_neg)"
   ]
  },
  {
   "cell_type": "code",
   "execution_count": 18,
   "id": "0b451334-4325-4eca-9bb1-520ec01bdc68",
   "metadata": {},
   "outputs": [
    {
     "data": {
      "text/plain": [
       "torch.Size([2, 10])"
      ]
     },
     "execution_count": 18,
     "metadata": {},
     "output_type": "execute_result"
    }
   ],
   "source": [
    "neg_samples.shape # shape is (batch_size, num_neg)"
   ]
  },
  {
   "cell_type": "markdown",
   "id": "d39fc2fd-44bc-43a9-adc7-c1f9e79d50de",
   "metadata": {},
   "source": [
    "### 5. Model\n",
    "\n",
    "$$\\mathbf{J}_{\\text{neg-sample}}(\\mathbf{v}_c,o,\\mathbf{U})=-\\log(\\sigma(\\mathbf{u}_o^T\\mathbf{v}_c))-\\sum_{k=1}^K\\log(\\sigma(-\\mathbf{u}_k^T\\mathbf{v}_c))$$"
   ]
  },
  {
   "cell_type": "code",
   "execution_count": 19,
   "id": "517ecde4-fb1b-4337-a7a2-90202532ca39",
   "metadata": {},
   "outputs": [],
   "source": [
    "class SkipgramNeg(nn.Module):\n",
    "    \n",
    "    def __init__(self, voc_size, emb_size):\n",
    "        super(SkipgramNeg, self).__init__()\n",
    "        self.embedding_centre_word  = nn.Embedding(voc_size, emb_size)\n",
    "        self.embedding_outside_word = nn.Embedding(voc_size, emb_size)\n",
    "        self.logsigmoid = nn.LogSigmoid()\n",
    "        \n",
    "    def forward(self, centre_words, outside_words, negative_words):\n",
    "        #center_words, outside_words: (batch_size, 1)\n",
    "        #negative_words:  (batch_size, k)\n",
    "        \n",
    "        centre_embed  = self.embedding_centre_word(centre_words)    #(batch_size, 1, emb_size)\n",
    "        outside_embed = self.embedding_outside_word(outside_words)  #(batch_size, 1, emb_size)\n",
    "        neg_embed     = self.embedding_outside_word(negative_words) #(batch_size, k, emb_size)\n",
    "        \n",
    "        uovc          =  outside_embed.bmm(centre_embed.transpose(1, 2)).squeeze(2)  #(batch_size, 1)\n",
    "        ukvc          = -neg_embed.bmm(centre_embed.transpose(1, 2)).squeeze(2)  #(batch_size, k)\n",
    "        ukvc_sum      =  torch.sum(ukvc, 1).view(-1, 1) #(batch_size, 1)\n",
    "        \n",
    "        loss = self.logsigmoid(uovc) + self.logsigmoid(ukvc_sum)  #(batch_size, 1) + (batch_size, 1)\n",
    "                \n",
    "        return -torch.mean(loss)  #scalar, loss should be scalar, to call backward()"
   ]
  },
  {
   "cell_type": "code",
   "execution_count": 20,
   "id": "f71998dc-c5ae-4e10-bf7f-970e85907c19",
   "metadata": {},
   "outputs": [],
   "source": [
    "input, label = random_batch(batch_size, corpus_tokenised)\n",
    "input_tensor = torch.LongTensor(input)  \n",
    "label_tensor = torch.LongTensor(label)"
   ]
  },
  {
   "cell_type": "code",
   "execution_count": 21,
   "id": "f31d5d8f-7207-484c-88bc-5725c46ea151",
   "metadata": {},
   "outputs": [],
   "source": [
    "emb_size = 10 # I will try on 10.\n",
    "voc_size = len(vocabs)\n",
    "model = SkipgramNeg(voc_size, emb_size)"
   ]
  },
  {
   "cell_type": "code",
   "execution_count": 22,
   "id": "fa980b9f-c95b-493a-88a6-8824d1f1e0c6",
   "metadata": {},
   "outputs": [],
   "source": [
    "neg_tensor = negative_sampling(label_tensor, unigram_table, 5)"
   ]
  },
  {
   "cell_type": "code",
   "execution_count": 23,
   "id": "50be8f75-c0c5-41cf-b919-0641699bb5e8",
   "metadata": {},
   "outputs": [
    {
     "data": {
      "text/plain": [
       "(torch.Size([2, 1]), torch.Size([2, 1]))"
      ]
     },
     "execution_count": 23,
     "metadata": {},
     "output_type": "execute_result"
    }
   ],
   "source": [
    "input_tensor.shape, label_tensor.shape"
   ]
  },
  {
   "cell_type": "code",
   "execution_count": 24,
   "id": "af86775f-5adf-4a5d-bc34-f88bc71f6199",
   "metadata": {},
   "outputs": [
    {
     "data": {
      "text/plain": [
       "tensor(16.9753, grad_fn=<NegBackward0>)"
      ]
     },
     "execution_count": 24,
     "metadata": {},
     "output_type": "execute_result"
    }
   ],
   "source": [
    "loss = model(input_tensor, label_tensor, neg_tensor)\n",
    "loss"
   ]
  },
  {
   "cell_type": "markdown",
   "id": "af276ca9-f6ff-4c76-91c3-a23d13070342",
   "metadata": {},
   "source": [
    "### 4. Training"
   ]
  },
  {
   "cell_type": "code",
   "execution_count": 25,
   "id": "32c112ad-5625-43e7-8514-6f882e59b106",
   "metadata": {},
   "outputs": [],
   "source": [
    "voc_size   = len(vocabs)\n",
    "batch_size = 2\n",
    "emb_size   = 10\n",
    "model      = SkipgramNeg(voc_size, emb_size)\n",
    "\n",
    "optimizer  = optim.Adam(model.parameters(), lr=0.001)"
   ]
  },
  {
   "cell_type": "code",
   "execution_count": 26,
   "id": "a7508771-94d9-4185-821d-366ea8e98c24",
   "metadata": {},
   "outputs": [
    {
     "name": "stdout",
     "output_type": "stream",
     "text": [
      "Epoch 1000 | Loss: 3.679335 | Time: 0m 0s\n",
      "Epoch 2000 | Loss: 7.086188 | Time: 0m 0s\n",
      "Epoch 3000 | Loss: 0.686530 | Time: 0m 0s\n",
      "Epoch 4000 | Loss: 0.000000 | Time: 0m 0s\n",
      "Epoch 5000 | Loss: 2.601206 | Time: 0m 0s\n",
      "Process Time: 3m 51s\n"
     ]
    }
   ],
   "source": [
    "num_epochs = 5000\n",
    "startp = time.time()\n",
    "for epoch in range(num_epochs):\n",
    "\n",
    "    #get random batch\n",
    "    start = time.time()\n",
    "    input_batch, label_batch = random_batch(batch_size, corpus_tokenised)\n",
    "    input_batch = torch.LongTensor(input_batch)\n",
    "    label_batch = torch.LongTensor(label_batch)\n",
    "    neg_batch   = negative_sampling(label_batch, unigram_table, 5)    \n",
    "    \n",
    "    #loss = model\n",
    "    loss = model(input_batch, label_batch, neg_batch)\n",
    "    \n",
    "    end = time.time()\n",
    "    \n",
    "    epoch_mins, epoch_secs = epoch_time(start, end)\n",
    "    #backpropagate\n",
    "    loss.backward()\n",
    "    \n",
    "    #update alpha\n",
    "    optimizer.step()\n",
    "    \n",
    "    #print epoch loss\n",
    "    if (epoch + 1) % 1000 == 0:\n",
    "        print(f\"Epoch {epoch+1} | Loss: {loss:.6f} | Time: {epoch_mins}m {epoch_secs}s\")\n",
    "endp = time.time()\n",
    "mins, secs = epoch_time(startp, endp)\n",
    "print(f\"Process Time: {mins}m {secs}s\")"
   ]
  },
  {
   "cell_type": "markdown",
   "id": "52971237-11bd-47a0-b6be-7bf53a5ddb66",
   "metadata": {},
   "source": [
    "### 5. Plot the embeddings"
   ]
  },
  {
   "cell_type": "code",
   "execution_count": 27,
   "id": "b6980cec-2e17-45a3-973f-12e099b0b0bd",
   "metadata": {},
   "outputs": [
    {
     "data": {
      "text/plain": [
       "tensor([109])"
      ]
     },
     "execution_count": 27,
     "metadata": {},
     "output_type": "execute_result"
    }
   ],
   "source": [
    "cat = torch.LongTensor([word2index['cat']])\n",
    "cat"
   ]
  },
  {
   "cell_type": "code",
   "execution_count": 28,
   "id": "1bbb495d-9ab1-40bf-9a2f-8a3ca80afb6c",
   "metadata": {},
   "outputs": [
    {
     "data": {
      "text/plain": [
       "tensor([[-1.0557,  0.0826, -1.5152, -0.1629, -1.0396, -0.8252,  0.7407,  0.0850,\n",
       "          0.1388, -0.0639]], grad_fn=<DivBackward0>)"
      ]
     },
     "execution_count": 28,
     "metadata": {},
     "output_type": "execute_result"
    }
   ],
   "source": [
    "cat_centre_embed = model.embedding_centre_word(cat)\n",
    "cat_outside_embed = model.embedding_outside_word(cat)\n",
    "\n",
    "cat_embed = (cat_centre_embed + cat_outside_embed) / 2\n",
    "cat_embed"
   ]
  },
  {
   "cell_type": "code",
   "execution_count": 29,
   "id": "715018f5-7c04-464b-b49c-f35f44f182ba",
   "metadata": {},
   "outputs": [],
   "source": [
    "def get_embed(word):\n",
    "    try:\n",
    "        index = word2index[word]\n",
    "    except:\n",
    "        index = word2index['<UNK>']\n",
    "    \n",
    "    word = torch.LongTensor([index])\n",
    "\n",
    "    center_embed  = model.embedding_centre_word(word)\n",
    "    outside_embed = model.embedding_outside_word(word)\n",
    "    \n",
    "    embed = (center_embed + outside_embed) / 2\n",
    "    \n",
    "    return  embed[0][0].item(), embed[0][1].item()"
   ]
  },
  {
   "cell_type": "code",
   "execution_count": 30,
   "id": "64b8c148-8200-4752-b48d-aba4de3d0d53",
   "metadata": {},
   "outputs": [
    {
     "name": "stdout",
     "output_type": "stream",
     "text": [
      "(-1.0556931495666504, 0.08260565996170044)\n"
     ]
    }
   ],
   "source": [
    "print(get_embed('cat'))"
   ]
  },
  {
   "cell_type": "code",
   "execution_count": 31,
   "id": "ba766811-2269-4c01-a3df-872c7056ae41",
   "metadata": {},
   "outputs": [
    {
     "data": {
      "image/png": "[encoded data removed]",
      "text/plain": [
       "<Figure size 432x216 with 1 Axes>"
      ]
     },
     "metadata": {
      "needs_background": "light"
     },
     "output_type": "display_data"
    }
   ],
   "source": [
    "plt.figure(figsize=(6,3))\n",
    "for i, word in enumerate(vocabs[:20]): #loop each unique vocab\n",
    "    x, y = get_embed(word)\n",
    "    plt.scatter(x, y)\n",
    "    plt.annotate(word, xy=(x, y), xytext=(5, 2), textcoords='offset points')\n",
    "plt.show()"
   ]
  },
  {
   "cell_type": "markdown",
   "id": "c350eda7-ffac-4f9b-a52c-5ca0c25724a1",
   "metadata": {},
   "source": [
    "### 6. Try on CBOW"
   ]
  },
  {
   "cell_type": "code",
   "execution_count": 32,
   "id": "82df03b3-051f-4cc6-a411-e9e5c3c3ff12",
   "metadata": {},
   "outputs": [
    {
     "data": {
      "text/plain": [
       "109"
      ]
     },
     "execution_count": 32,
     "metadata": {},
     "output_type": "execute_result"
    }
   ],
   "source": [
    "#delete duplicate word define as vocabs, also include unknow as <UNK>.\n",
    "flatten = lambda l: [item for sublist in l for item in sublist]\n",
    "vocabs  = list(set(flatten(corpus_tokenised)))\n",
    "vocabs.append('<UNK>') # to let '<UNK>' become the last.\n",
    "word2index = {v: idx+1 for idx, v in enumerate(vocabs)} #plus one to shift value in word index to assign <UNK>'s value to 0 without duplication with others.\n",
    "word2index['<UNK>'] = 0\n",
    "\n",
    "#Let check word to index's value\n",
    "word2index[\"cat\"]"
   ]
  },
  {
   "cell_type": "code",
   "execution_count": 33,
   "id": "b78fa9b0-c725-40ac-a799-e1ee533b4123",
   "metadata": {},
   "outputs": [
    {
     "data": {
      "text/plain": [
       "'coast'"
      ]
     },
     "execution_count": 33,
     "metadata": {},
     "output_type": "execute_result"
    }
   ],
   "source": [
    "# Create index to word\n",
    "index2word = {v:k for k, v in word2index.items()}\n",
    "\n",
    "index2word[50]"
   ]
  },
  {
   "cell_type": "markdown",
   "id": "116b4bae-9afc-4cde-b332-799b6e092cda",
   "metadata": {
    "tags": []
   },
   "source": [
    "#### Prepare train data\n",
    "\n",
    "I use same way but change the variable to not making myself get confused."
   ]
  },
  {
   "cell_type": "code",
   "execution_count": 34,
   "id": "eaf4b7b8-cd5b-4bf0-a60d-82f5a893acb1",
   "metadata": {},
   "outputs": [
    {
     "data": {
      "text/plain": [
       "[['(', 'The'],\n",
       " ['(', 'cat'],\n",
       " ['(', 'Felis'],\n",
       " ['(', 'catus'],\n",
       " ['Felis', 'cat'],\n",
       " ['Felis', '('],\n",
       " ['Felis', 'catus'],\n",
       " ['Felis', ')'],\n",
       " ['catus', '('],\n",
       " ['catus', 'Felis'],\n",
       " ['catus', ')'],\n",
       " ['catus', 'is'],\n",
       " [')', 'Felis'],\n",
       " [')', 'catus'],\n",
       " [')', 'is'],\n",
       " [')', 'a'],\n",
       " ['is', 'catus'],\n",
       " ['is', ')'],\n",
       " ['is', 'a'],\n",
       " ['is', 'domestic'],\n",
       " ['a', ')'],\n",
       " ['a', 'is'],\n",
       " ['a', 'domestic'],\n",
       " ['a', 'species'],\n",
       " ['domestic', 'is'],\n",
       " ['domestic', 'a'],\n",
       " ['domestic', 'species'],\n",
       " ['domestic', 'of'],\n",
       " ['species', 'a'],\n",
       " ['species', 'domestic'],\n",
       " ['species', 'of'],\n",
       " ['species', 'small'],\n",
       " ['of', 'domestic'],\n",
       " ['of', 'species'],\n",
       " ['of', 'small'],\n",
       " ['of', 'carnivorous'],\n",
       " ['small', 'species'],\n",
       " ['small', 'of'],\n",
       " ['small', 'carnivorous'],\n",
       " ['small', 'mammal'],\n",
       " ['carnivorous', 'of'],\n",
       " ['carnivorous', 'small'],\n",
       " ['carnivorous', 'mammal'],\n",
       " ['carnivorous', '.'],\n",
       " ['mammal', 'small'],\n",
       " ['mammal', 'carnivorous'],\n",
       " ['mammal', '.'],\n",
       " ['mammal', 'It'],\n",
       " ['.', 'carnivorous'],\n",
       " ['.', 'mammal']]"
      ]
     },
     "execution_count": 34,
     "metadata": {},
     "output_type": "execute_result"
    }
   ],
   "source": [
    "CBOW = []\n",
    "\n",
    "#for each corpus\n",
    "for sent in corpus_tokenised:\n",
    "    #for each sent [\"apple\", \"banana\", \"fruit\"]\n",
    "    for i in range(2, len(sent) - 2): # start from 1 to second last but we use window size of 2, then first centre word should be at index 2\n",
    "        center_word = sent[i]\n",
    "        outside_words = np.ravel([sent[i - 2:i],sent[i+1: i + 3]])  # window_size = 2\n",
    "        for o in outside_words:\n",
    "            CBOW.append([center_word, o])\n",
    "\n",
    "CBOW[:50] #shows only sample 50 elements"
   ]
  },
  {
   "cell_type": "code",
   "execution_count": 35,
   "id": "34dd843a-d1a9-48d2-b249-a646f0814e70",
   "metadata": {},
   "outputs": [],
   "source": [
    "def random_batch(batch_size, corpus):\n",
    "    \n",
    "    skipgrams = []\n",
    "\n",
    "    for sent in corpus:\n",
    "        for i in range(2, len(sent) - 2): #start from 2 to third last for window size = 2\n",
    "            centre_word = word2index[sent[i]]\n",
    "            outside_words = []\n",
    "            for j in np.ravel([sent[i - 2:i],sent[i + 1: i + 3]]):\n",
    "                outside_words.append(word2index[j])  #window_size = 2\n",
    "            for o in outside_words:\n",
    "                skipgrams.append([centre_word, o])\n",
    "                \n",
    "    #only get a batch, not the entire list\n",
    "    random_index = np.random.choice(range(len(skipgrams)), batch_size, replace=False)\n",
    "    #appending some list of inputs and labels\n",
    "    random_inputs, random_labels = [], []   \n",
    "    for index in random_index:\n",
    "        random_inputs.append([skipgrams[index][0]])  #center words, this will be a shape of (1, ) --> (1, 1) for modeling\n",
    "        random_labels.append([skipgrams[index][1]])\n",
    "        \n",
    "    return np.array(random_inputs), np.array(random_labels)"
   ]
  },
  {
   "cell_type": "code",
   "execution_count": 36,
   "id": "39b5fc25-f9ec-422e-bc77-772ea20806a4",
   "metadata": {},
   "outputs": [
    {
     "name": "stdout",
     "output_type": "stream",
     "text": [
      "(10, 1)\n",
      "label=array([[ 278],\n",
      "       [ 171],\n",
      "       [ 799],\n",
      "       [1007],\n",
      "       [ 781],\n",
      "       [1019],\n",
      "       [ 589],\n",
      "       [ 405],\n",
      "       [ 272],\n",
      "       [ 721]])\n"
     ]
    }
   ],
   "source": [
    "input, label = random_batch(10, corpus_tokenised)\n",
    "\n",
    "print(f\"{input.shape}\")\n",
    "print(f\"{label=}\")"
   ]
  },
  {
   "cell_type": "markdown",
   "id": "53a9fdea-4d32-4044-960e-55526a7b564e",
   "metadata": {},
   "source": [
    "#### Unigram distribution\n",
    "\n",
    "$$P(w)=U(w)^{3/4}/Z$$\n",
    "\n",
    "Defining the probability of sampling negative words"
   ]
  },
  {
   "cell_type": "code",
   "execution_count": 37,
   "id": "75c05bec-8848-4a2e-95c6-d7a45811d6c0",
   "metadata": {},
   "outputs": [],
   "source": [
    "from collections import Counter\n",
    "\n",
    "word_count = Counter(flatten(corpus_tokenised))\n",
    "# word_count # Showing word count"
   ]
  },
  {
   "cell_type": "code",
   "execution_count": 38,
   "id": "8a63b387-4320-4cbc-9001-2f9fb88d8ce8",
   "metadata": {},
   "outputs": [
    {
     "data": {
      "text/plain": [
       "2898"
      ]
     },
     "execution_count": 38,
     "metadata": {},
     "output_type": "execute_result"
    }
   ],
   "source": [
    "num_total_words = sum([c for w, c in word_count.items()])\n",
    "num_total_words"
   ]
  },
  {
   "cell_type": "code",
   "execution_count": 39,
   "id": "16ee2ada-d0d4-4c84-a0cd-c3f13a40e34e",
   "metadata": {},
   "outputs": [],
   "source": [
    "z = 0.001  #scaling up low frequency terms\n",
    "unigram_table = []\n",
    "\n",
    "# create loop for the P(w) formula\n",
    "for v in vocabs:\n",
    "    uw = word_count[v]/num_total_words\n",
    "    uw_alpha = uw ** (3/4)\n",
    "    uw_alpha_dividebyz = int(uw_alpha / z)\n",
    "    unigram_table.extend([v] * uw_alpha_dividebyz)\n",
    "    \n",
    "# Counter(unigram_table)"
   ]
  },
  {
   "cell_type": "markdown",
   "id": "1a88d713-ba21-4be3-a1e0-a613630fc982",
   "metadata": {},
   "source": [
    "#### Negative sampling"
   ]
  },
  {
   "cell_type": "code",
   "execution_count": 40,
   "id": "fce0f1fd-2624-4501-90e1-b85dc3cea509",
   "metadata": {},
   "outputs": [],
   "source": [
    "def prepare_sequence(seq, word2index):\n",
    "    idxs = list(map(lambda w: word2index[w] if word2index.get(w) is not None else word2index[\"<UNK>\"], seq))\n",
    "    return torch.LongTensor(idxs)"
   ]
  },
  {
   "cell_type": "code",
   "execution_count": 41,
   "id": "78441c1a-0eab-426c-b174-6fc0dadac3ad",
   "metadata": {},
   "outputs": [],
   "source": [
    "import random\n",
    "\n",
    "def negative_sampling(targets, unigram_table, k):\n",
    "    \n",
    "    batch_size = targets.shape[0]\n",
    "    neg_samples = []\n",
    "    \n",
    "    for i in range(batch_size):\n",
    "        #randomly pick k negative words from unigram_table\n",
    "        target_index = targets[i].item()  #looping each of the batch....\n",
    "        nsample = []\n",
    "        while len(nsample) < k:\n",
    "            neg = random.choice(unigram_table)\n",
    "            #if this word == target, skip this word\n",
    "            if word2index[neg] == target_index:\n",
    "                continue\n",
    "            nsample.append(neg)\n",
    "        #append this word to some list\n",
    "        neg_samples.append(prepare_sequence(nsample, word2index).reshape(1, -1))  #tensor[], tensor[]\n",
    "    return torch.cat(neg_samples)"
   ]
  },
  {
   "cell_type": "markdown",
   "id": "0293445e-a0b0-4230-b8d9-c022c364a332",
   "metadata": {},
   "source": [
    "According to quiz, Skipgram use centre to predict context but CBOW use context to predict centre, I just flip label and input on this step."
   ]
  },
  {
   "cell_type": "code",
   "execution_count": 42,
   "id": "c33afbc4-6113-4a36-96ff-863cff27a99e",
   "metadata": {},
   "outputs": [
    {
     "data": {
      "text/plain": [
       "(array([[873],\n",
       "        [956]]),\n",
       " array([[645],\n",
       "        [967]]))"
      ]
     },
     "execution_count": 42,
     "metadata": {},
     "output_type": "execute_result"
    }
   ],
   "source": [
    "batch_size = 2\n",
    "label_batch, input_batch = random_batch(batch_size, corpus_tokenised)\n",
    "\n",
    "input_batch, label_batch"
   ]
  },
  {
   "cell_type": "code",
   "execution_count": 43,
   "id": "ddc16910-6a7d-4f0e-8915-2ec80aa36c97",
   "metadata": {},
   "outputs": [],
   "source": [
    "# Convert to Tensor\n",
    "\n",
    "input_batch = torch.LongTensor(input_batch)\n",
    "label_batch = torch.LongTensor(label_batch)"
   ]
  },
  {
   "cell_type": "code",
   "execution_count": 44,
   "id": "b56a60e6-5b6a-428b-b9ef-861af47a61b7",
   "metadata": {},
   "outputs": [],
   "source": [
    "num_neg = 10  # I will try 10 as in the paper.\n",
    "neg_samples = negative_sampling(label_batch, unigram_table, num_neg)"
   ]
  },
  {
   "cell_type": "code",
   "execution_count": 45,
   "id": "8436ba74-2a96-4cda-87a3-48b7773d2930",
   "metadata": {},
   "outputs": [
    {
     "data": {
      "text/plain": [
       "torch.Size([2, 10])"
      ]
     },
     "execution_count": 45,
     "metadata": {},
     "output_type": "execute_result"
    }
   ],
   "source": [
    "neg_samples.shape # shape is (batch_size, num_neg)"
   ]
  },
  {
   "cell_type": "markdown",
   "id": "2cd90cc2-54e1-44c6-ae57-d17e1c2bf8e5",
   "metadata": {},
   "source": [
    "#### Model"
   ]
  },
  {
   "cell_type": "code",
   "execution_count": 46,
   "id": "aaf3c4cf-7bce-4f0f-a0a2-d6c00e12a09a",
   "metadata": {},
   "outputs": [],
   "source": [
    "# get inspired from https://github.com/jeffchy/pytorch-word-embedding/blob/master/CBOW.py\n",
    "\n",
    "class CBOW(nn.Module):\n",
    "    \n",
    "    def __init__(self, voc_size, emb_size):\n",
    "        super(CBOW, self).__init__()\n",
    "        self.embedding_centre_word  = nn.Embedding(voc_size, emb_size)\n",
    "        self.embedding_outside_word = nn.Embedding(voc_size, emb_size)\n",
    "        self.logsigmoid = nn.LogSigmoid()\n",
    "        \n",
    "    def forward(self, centre_words, outside_words, negative_words):\n",
    "        \n",
    "        centre_embed  = self.embedding_centre_word(centre_words)    #(batch_size, 1, emb_size)\n",
    "        outside_embed = self.embedding_outside_word(outside_words)  #(batch_size, 1, emb_size)\n",
    "        neg_embed     = self.embedding_outside_word(negative_words) #(batch_size, k, emb_size)\n",
    "        \n",
    "        uovc          =  outside_embed.bmm(centre_embed.transpose(1, 2)).squeeze(2)  #(batch_size, 1)\n",
    "        ukvc          = -neg_embed.bmm(centre_embed.transpose(1, 2)).squeeze(2)  #(batch_size, k)\n",
    "        ukvc_sum      =  torch.sum(ukvc, 1).view(-1, 1) #(batch_size, 1)\n",
    "        \n",
    "        loss = self.logsigmoid(uovc) + self.logsigmoid(ukvc_sum)  #(batch_size, 1) + (batch_size, 1)\n",
    "                \n",
    "        return -torch.mean(loss)  #scalar, loss should be scalar, to call backward()"
   ]
  },
  {
   "cell_type": "markdown",
   "id": "38a38113-0b9f-4960-82af-c3dceef3a6cc",
   "metadata": {},
   "source": [
    "I flip label and input on this step also."
   ]
  },
  {
   "cell_type": "code",
   "execution_count": 47,
   "id": "cf5c8c24-2957-4129-8b57-7adf607b78b9",
   "metadata": {},
   "outputs": [],
   "source": [
    "label, input = random_batch(batch_size, corpus_tokenised)\n",
    "input_tensor = torch.LongTensor(input)  \n",
    "label_tensor = torch.LongTensor(label)"
   ]
  },
  {
   "cell_type": "code",
   "execution_count": 48,
   "id": "023182d0-a3d4-44bd-be17-8ce250b2f065",
   "metadata": {},
   "outputs": [],
   "source": [
    "emb_size = 10 # I will try on 10.\n",
    "voc_size = len(vocabs)\n",
    "model = CBOW(voc_size, emb_size)"
   ]
  },
  {
   "cell_type": "code",
   "execution_count": 49,
   "id": "796b685e-8a35-4365-8695-11a6305b1e6a",
   "metadata": {},
   "outputs": [],
   "source": [
    "neg_tensor = negative_sampling(label_tensor, unigram_table, 5)"
   ]
  },
  {
   "cell_type": "code",
   "execution_count": 50,
   "id": "da3857c1-2e46-4f65-aba6-5acc60ffed49",
   "metadata": {},
   "outputs": [
    {
     "data": {
      "text/plain": [
       "(torch.Size([2, 1]), torch.Size([2, 1]))"
      ]
     },
     "execution_count": 50,
     "metadata": {},
     "output_type": "execute_result"
    }
   ],
   "source": [
    "input_tensor.shape, label_tensor.shape"
   ]
  },
  {
   "cell_type": "code",
   "execution_count": 51,
   "id": "967c6ae4-1e50-4ba3-8692-a87ac38d3f88",
   "metadata": {},
   "outputs": [
    {
     "data": {
      "text/plain": [
       "tensor(0.0043, grad_fn=<NegBackward0>)"
      ]
     },
     "execution_count": 51,
     "metadata": {},
     "output_type": "execute_result"
    }
   ],
   "source": [
    "loss = model(input_tensor, label_tensor, neg_tensor)\n",
    "loss"
   ]
  },
  {
   "cell_type": "markdown",
   "id": "c4f3ea3b-5555-40d4-817b-151bb6df1f97",
   "metadata": {},
   "source": [
    "#### Training"
   ]
  },
  {
   "cell_type": "code",
   "execution_count": 52,
   "id": "23c8c9c4-9db0-4dc0-8783-954d6b3a8005",
   "metadata": {},
   "outputs": [],
   "source": [
    "voc_size   = len(vocabs)\n",
    "batch_size = 2\n",
    "emb_size   = 10\n",
    "model      = CBOW(voc_size, emb_size)\n",
    "\n",
    "optimizer  = optim.Adam(model.parameters(), lr=0.001)"
   ]
  },
  {
   "cell_type": "code",
   "execution_count": 53,
   "id": "6002557e-879b-4f21-95fd-2f6c57a24a65",
   "metadata": {},
   "outputs": [
    {
     "name": "stdout",
     "output_type": "stream",
     "text": [
      "Epoch 1000 | Loss: 12.842160 | Time: 0m 0s\n",
      "Epoch 2000 | Loss: 1.380744 | Time: 0m 0s\n",
      "Epoch 3000 | Loss: 0.778933 | Time: 0m 0s\n",
      "Epoch 4000 | Loss: 9.280187 | Time: 0m 0s\n",
      "Epoch 5000 | Loss: 33.798153 | Time: 0m 0s\n",
      "Process Time: 3m 42s\n"
     ]
    }
   ],
   "source": [
    "num_epochs = 5000\n",
    "startp = time.time()\n",
    "for epoch in range(num_epochs):\n",
    "    start = time.time()\n",
    "    #get random batch\n",
    "    input_batch, label_batch = random_batch(batch_size, corpus_tokenised)\n",
    "    input_batch = torch.LongTensor(input_batch)\n",
    "    label_batch = torch.LongTensor(label_batch)\n",
    "    neg_batch   = negative_sampling(label_batch, unigram_table, 5)    \n",
    "    \n",
    "    #loss = model\n",
    "    loss = model(input_batch, label_batch, neg_batch)\n",
    "    end = time.time()\n",
    "    \n",
    "    epoch_mins, epoch_secs = epoch_time(start, end)\n",
    "    #backpropagate\n",
    "    loss.backward()\n",
    "    \n",
    "    #update alpha\n",
    "    optimizer.step()\n",
    "    \n",
    "    #print epoch loss\n",
    "    if (epoch + 1) % 1000 == 0:\n",
    "        print(f\"Epoch {epoch+1} | Loss: {loss:.6f} | Time: {epoch_mins}m {epoch_secs}s\")\n",
    "endp = time.time()\n",
    "mins, secs = epoch_time(startp, endp)\n",
    "print(f\"Process Time: {mins}m {secs}s\")"
   ]
  },
  {
   "cell_type": "markdown",
   "id": "d4cb8914-d820-411a-8c2d-ffd33ff8183e",
   "metadata": {},
   "source": [
    "#### Plot the embeddings"
   ]
  },
  {
   "cell_type": "code",
   "execution_count": 54,
   "id": "aae2adce-f016-4ac0-943a-e3df52ee5f0f",
   "metadata": {},
   "outputs": [
    {
     "data": {
      "text/plain": [
       "tensor([109])"
      ]
     },
     "execution_count": 54,
     "metadata": {},
     "output_type": "execute_result"
    }
   ],
   "source": [
    "cat = torch.LongTensor([word2index['cat']])\n",
    "cat"
   ]
  },
  {
   "cell_type": "code",
   "execution_count": 55,
   "id": "21feb9e6-dfb1-44a0-af9c-87e339611bc9",
   "metadata": {},
   "outputs": [
    {
     "data": {
      "text/plain": [
       "tensor([[-0.2046, -1.2338, -0.2762,  1.8821,  1.3368,  0.1162,  0.4612, -0.3049,\n",
       "          0.0875, -0.7649]], grad_fn=<DivBackward0>)"
      ]
     },
     "execution_count": 55,
     "metadata": {},
     "output_type": "execute_result"
    }
   ],
   "source": [
    "cat_centre_embed = model.embedding_centre_word(cat)\n",
    "cat_outside_embed = model.embedding_outside_word(cat)\n",
    "\n",
    "cat_embed = (cat_centre_embed + cat_outside_embed) / 2\n",
    "cat_embed"
   ]
  },
  {
   "cell_type": "code",
   "execution_count": 56,
   "id": "7875886d-4889-47cc-a54e-fe4f1e9961a1",
   "metadata": {},
   "outputs": [],
   "source": [
    "def get_embed(word):\n",
    "    try:\n",
    "        index = word2index[word]\n",
    "    except:\n",
    "        index = word2index['<UNK>']\n",
    "    \n",
    "    word = torch.LongTensor([index])\n",
    "\n",
    "    center_embed  = model.embedding_centre_word(word)\n",
    "    outside_embed = model.embedding_outside_word(word)\n",
    "    \n",
    "    embed = (center_embed + outside_embed) / 2\n",
    "    \n",
    "    return  embed[0][0].item(), embed[0][1].item()"
   ]
  },
  {
   "cell_type": "code",
   "execution_count": 57,
   "id": "740268de-b405-4884-af20-27c507df71a2",
   "metadata": {},
   "outputs": [
    {
     "name": "stdout",
     "output_type": "stream",
     "text": [
      "(-0.20457780361175537, -1.2338156700134277)\n"
     ]
    }
   ],
   "source": [
    "print(get_embed('cat'))"
   ]
  },
  {
   "cell_type": "code",
   "execution_count": 58,
   "id": "fd114924-2e93-4871-80fc-8ed7a9ccfc91",
   "metadata": {},
   "outputs": [
    {
     "data": {
      "image/png": "[encoded data removed]",
      "text/plain": [
       "<Figure size 432x216 with 1 Axes>"
      ]
     },
     "metadata": {
      "needs_background": "light"
     },
     "output_type": "display_data"
    }
   ],
   "source": [
    "plt.figure(figsize=(6,3))\n",
    "for i, word in enumerate(vocabs[:20]): #loop each unique vocab\n",
    "    x, y = get_embed(word)\n",
    "    plt.scatter(x, y)\n",
    "    plt.annotate(word, xy=(x, y), xytext=(5, 2), textcoords='offset points')\n",
    "plt.show()"
   ]
  },
  {
   "cell_type": "markdown",
   "id": "db93c73b-f7d4-4f70-b375-e8b5d021d45f",
   "metadata": {},
   "source": [
    "## 7. Normal Skipgram"
   ]
  },
  {
   "cell_type": "code",
   "execution_count": 77,
   "id": "2ee51d87-112a-4e35-b2d2-c719ae4f3373",
   "metadata": {
    "tags": []
   },
   "outputs": [
    {
     "data": {
      "text/plain": [
       "109"
      ]
     },
     "execution_count": 77,
     "metadata": {},
     "output_type": "execute_result"
    }
   ],
   "source": [
    "#delete duplicate word define as vocabs, also include unknow as <UNK>.\n",
    "flatten = lambda l: [item for sublist in l for item in sublist]\n",
    "vocabs  = list(set(flatten(corpus_tokenised)))\n",
    "vocabs.append('<UNK>') # to let '<UNK>' become the last.\n",
    "word2index = {v: idx+1 for idx, v in enumerate(vocabs)} #plus one to shift value in word index to assign <UNK>'s value to 0 without duplication with others.\n",
    "word2index['<UNK>'] = 0\n",
    "\n",
    "#Let check word to index's value\n",
    "word2index[\"cat\"]"
   ]
  },
  {
   "cell_type": "code",
   "execution_count": 78,
   "id": "3001e6a0-4fcb-44d0-a38f-46debfcdeacf",
   "metadata": {},
   "outputs": [
    {
     "data": {
      "text/plain": [
       "'coast'"
      ]
     },
     "execution_count": 78,
     "metadata": {},
     "output_type": "execute_result"
    }
   ],
   "source": [
    "# Create index to word\n",
    "index2word = {v:k for k, v in word2index.items()}\n",
    "\n",
    "index2word[50]"
   ]
  },
  {
   "cell_type": "code",
   "execution_count": 79,
   "id": "28dc7e9d-334d-4aa9-bbc4-c258ca57f428",
   "metadata": {},
   "outputs": [],
   "source": [
    "skipgrams = []\n",
    "\n",
    "#for each corpus\n",
    "for sent in corpus_tokenised:\n",
    "    #for each sent [\"apple\", \"banana\", \"fruit\"]\n",
    "    for i in range(2, len(sent) - 2): # start from 1 to second last but we use window size of 2, then first centre word should be at index 2\n",
    "        center_word = sent[i]\n",
    "        outside_words = np.ravel([sent[i - 2:i],sent[i+1: i + 3]])  # window_size = 2\n",
    "        for o in outside_words:\n",
    "            skipgrams.append([center_word, o])\n",
    "\n",
    "# skipgrams[:50] #shows only sample 50 elements"
   ]
  },
  {
   "cell_type": "code",
   "execution_count": 80,
   "id": "c9fd6fca-3c9d-4c49-9593-0365755f3659",
   "metadata": {},
   "outputs": [],
   "source": [
    "def random_batch(batch_size, corpus):\n",
    "    \n",
    "    skipgrams = []\n",
    "\n",
    "    for sent in corpus:\n",
    "        for i in range(2, len(sent) - 2): #start from 2 to third last for window size = 2\n",
    "            centre_word = word2index[sent[i]]\n",
    "            outside_words = []\n",
    "            for j in np.ravel([sent[i - 2:i],sent[i + 1: i + 3]]):\n",
    "                outside_words.append(word2index[j])  #window_size = 2\n",
    "            for o in outside_words:\n",
    "                skipgrams.append([centre_word, o])\n",
    "                \n",
    "    #only get a batch, not the entire list\n",
    "    random_index = np.random.choice(range(len(skipgrams)), batch_size, replace=False)\n",
    "    #appending some list of inputs and labels\n",
    "    random_inputs, random_labels = [], []   \n",
    "    for index in random_index:\n",
    "        random_inputs.append([skipgrams[index][0]])  #center words, this will be a shape of (1, ) --> (1, 1) for modeling\n",
    "        random_labels.append([skipgrams[index][1]])\n",
    "        \n",
    "    return np.array(random_inputs), np.array(random_labels)"
   ]
  },
  {
   "cell_type": "code",
   "execution_count": 81,
   "id": "ee839e55-b4b7-49ad-9cf7-b65f8c0cf9f6",
   "metadata": {},
   "outputs": [],
   "source": [
    "class Skipgram(nn.Module):\n",
    "    \n",
    "    def __init__(self, voc_size, emb_size):\n",
    "        super(Skipgram, self).__init__()\n",
    "        self.embedding_centre_word  = nn.Embedding(voc_size, emb_size)  #is a lookup table mapping all ids in voc_size, into some vector of size emb_size\n",
    "        self.embedding_outside_word = nn.Embedding(voc_size, emb_size)\n",
    "    \n",
    "    def forward(self, centre_word, outside_word, all_vocabs):\n",
    "        #center_word, outside_word: (batch_size, 1)\n",
    "        #all_vocabs: (batch_size, voc_size)\n",
    "        \n",
    "        #convert them into embedding\n",
    "        centre_word_embed  = self.embedding_centre_word(centre_word)     #(batch_size, 1, emb_size)\n",
    "        outside_word_embed = self.embedding_outside_word(outside_word)   #(batch_size, 1, emb_size)\n",
    "        all_vocabs_embed   = self.embedding_outside_word(all_vocabs)     #(batch_size, voc_size, emb_size)\n",
    "        \n",
    "        #bmm is basically @ or .dot , but across batches (i.e., ignore the batch dimension)\n",
    "        top_term = outside_word_embed.bmm(centre_word_embed.transpose(1, 2)).squeeze(2)\n",
    "        #(batch_size, 1, emb_size) @ (batch_size, emb_size, 1) = (batch_size, 1, 1) ===> (batch_size, 1)\n",
    "        \n",
    "        top_term_exp = torch.exp(top_term)  #exp(uo vc)\n",
    "        #(batch_size, 1)\n",
    "        \n",
    "        lower_term = all_vocabs_embed.bmm(centre_word_embed.transpose(1, 2)).squeeze(2)\n",
    "         #(batch_size, voc_size, emb_size) @ (batch_size, emb_size, 1) = (batch_size, voc_size, 1) = (batch_size, voc_size)\n",
    "         \n",
    "        lower_term_sum = torch.sum(torch.exp(lower_term), 1) #sum exp(uw vc)\n",
    "        #(batch_size, 1)\n",
    "        \n",
    "        loss_fn = -torch.mean(torch.log(top_term_exp / lower_term_sum))\n",
    "        #(batch_size, 1) / (batch_size, 1) ==mean==> scalar\n",
    "        \n",
    "        return loss_fn"
   ]
  },
  {
   "cell_type": "code",
   "execution_count": 82,
   "id": "c85847a9-1e24-46be-8ddd-99ad1eb7ed7c",
   "metadata": {},
   "outputs": [
    {
     "name": "stdout",
     "output_type": "stream",
     "text": [
      "(10, 1)\n",
      "label=array([[ 999],\n",
      "       [ 596],\n",
      "       [ 921],\n",
      "       [ 419],\n",
      "       [ 445],\n",
      "       [1007],\n",
      "       [ 206],\n",
      "       [ 912],\n",
      "       [ 109],\n",
      "       [ 570]])\n"
     ]
    }
   ],
   "source": [
    "input, label = random_batch(10, corpus_tokenised)\n",
    "\n",
    "print(f\"{input.shape}\")\n",
    "print(f\"{label=}\")"
   ]
  },
  {
   "cell_type": "markdown",
   "id": "111adfee-41aa-4639-87d3-6bd14b04e52b",
   "metadata": {},
   "source": [
    "#### Model\n"
   ]
  },
  {
   "cell_type": "code",
   "execution_count": 83,
   "id": "2c274654-b519-42da-a888-57e57a4c0b98",
   "metadata": {},
   "outputs": [
    {
     "data": {
      "text/plain": [
       "torch.Size([2, 1059])"
      ]
     },
     "execution_count": 83,
     "metadata": {},
     "output_type": "execute_result"
    }
   ],
   "source": [
    "batch_size = 2\n",
    "\n",
    "def prepare_sequence(seq, word2index):\n",
    "    #map(function, list of something)\n",
    "    #map will look at each of element in this list, and apply this function\n",
    "    idxs = list(map(lambda w: word2index[w] if word2index.get(w) is not None else word2index[\"<UNK>\"], seq))\n",
    "    return torch.LongTensor(idxs)\n",
    "\n",
    "all_vocabs = prepare_sequence(list(vocabs), word2index).expand(batch_size, voc_size)\n",
    "all_vocabs.shape"
   ]
  },
  {
   "cell_type": "code",
   "execution_count": 84,
   "id": "ff82449c-4b19-4430-a96f-8b3daaa403ff",
   "metadata": {},
   "outputs": [],
   "source": [
    "input, label = random_batch(batch_size, corpus_tokenised)\n",
    "input_tensor = torch.LongTensor(input)  \n",
    "label_tensor = torch.LongTensor(label)"
   ]
  },
  {
   "cell_type": "code",
   "execution_count": 85,
   "id": "88ce7e54-6003-46e1-b163-ff0f6b08f8bf",
   "metadata": {},
   "outputs": [],
   "source": [
    "emb_size = 10 # I will try on 10.\n",
    "voc_size = len(vocabs)\n",
    "model = Skipgram(voc_size, emb_size)"
   ]
  },
  {
   "cell_type": "code",
   "execution_count": 86,
   "id": "e90176b5-3876-406c-9b9e-3a01443894eb",
   "metadata": {},
   "outputs": [
    {
     "data": {
      "text/plain": [
       "(torch.Size([2, 1]), torch.Size([2, 1]))"
      ]
     },
     "execution_count": 86,
     "metadata": {},
     "output_type": "execute_result"
    }
   ],
   "source": [
    "input_tensor.shape, label_tensor.shape"
   ]
  },
  {
   "cell_type": "code",
   "execution_count": 87,
   "id": "a30ae1a5-067c-459e-94ab-35c8a8430b39",
   "metadata": {},
   "outputs": [
    {
     "data": {
      "text/plain": [
       "tensor(8.7218, grad_fn=<NegBackward0>)"
      ]
     },
     "execution_count": 87,
     "metadata": {},
     "output_type": "execute_result"
    }
   ],
   "source": [
    "loss = model(input_tensor, label_tensor, all_vocabs)\n",
    "loss"
   ]
  },
  {
   "cell_type": "markdown",
   "id": "973884f0-7145-4bf6-ac2d-32e5c72fd16e",
   "metadata": {},
   "source": [
    "#### Training"
   ]
  },
  {
   "cell_type": "code",
   "execution_count": 88,
   "id": "edb69961-e926-49b3-9a33-22c9497643b5",
   "metadata": {},
   "outputs": [],
   "source": [
    "voc_size   = len(vocabs)\n",
    "batch_size = 2\n",
    "emb_size   = 10\n",
    "model      = Skipgram(voc_size, emb_size)\n",
    "\n",
    "optimizer  = optim.Adam(model.parameters(), lr=0.001)"
   ]
  },
  {
   "cell_type": "code",
   "execution_count": 89,
   "id": "09b08267-54fb-43af-b33f-5d75c7cd25a4",
   "metadata": {},
   "outputs": [
    {
     "name": "stdout",
     "output_type": "stream",
     "text": [
      "Epoch 1000 | Loss: 5.950226 | Time: 0m 0s\n",
      "Epoch 2000 | Loss: 10.029776 | Time: 0m 0s\n",
      "Epoch 3000 | Loss: 12.667464 | Time: 0m 0s\n",
      "Epoch 4000 | Loss: 26.544285 | Time: 0m 0s\n",
      "Process Time: 3m 49s\n"
     ]
    }
   ],
   "source": [
    "num_epochs = 4000\n",
    "startp = time.time()\n",
    "#for epoch\n",
    "for epoch in range(num_epochs):\n",
    "    start = time.time()\n",
    "    #get random batch\n",
    "    input_batch, label_batch = random_batch(batch_size, corpus_tokenised)\n",
    "    input_batch = torch.LongTensor(input_batch)\n",
    "    label_batch = torch.LongTensor(label_batch)\n",
    "    \n",
    "    # print(input_batch.shape, label_batch.shape, all_vocabs.shape)\n",
    "    \n",
    "    #loss = model\n",
    "    loss = model(input_batch, label_batch, all_vocabs)\n",
    "    \n",
    "    end = time.time()\n",
    "    \n",
    "    epoch_mins, epoch_secs = epoch_time(start, end)\n",
    "    \n",
    "    #backpropagate\n",
    "    loss.backward()\n",
    "    \n",
    "    #update alpha\n",
    "    optimizer.step()\n",
    "    \n",
    "    #print epoch loss\n",
    "    if (epoch + 1) % 1000 == 0:\n",
    "        print(f\"Epoch {epoch+1} | Loss: {loss:.6f} | Time: {epoch_mins}m {epoch_secs}s\")\n",
    "\n",
    "endp = time.time()\n",
    "mins, secs = epoch_time(startp, endp)\n",
    "print(f\"Process Time: {mins}m {secs}s\")"
   ]
  },
  {
   "cell_type": "markdown",
   "id": "b1ab4f14-d73f-4fbf-903e-dc79c3baceba",
   "metadata": {},
   "source": [
    "#### Plot the embeddings"
   ]
  },
  {
   "cell_type": "code",
   "execution_count": 90,
   "id": "55a5a7b7-a08c-432a-b968-45f1b854804a",
   "metadata": {},
   "outputs": [
    {
     "data": {
      "text/plain": [
       "tensor([109])"
      ]
     },
     "execution_count": 90,
     "metadata": {},
     "output_type": "execute_result"
    }
   ],
   "source": [
    "cat = torch.LongTensor([word2index['cat']])\n",
    "cat"
   ]
  },
  {
   "cell_type": "code",
   "execution_count": 91,
   "id": "7e9bb4c9-7100-4b47-b562-28d4806476d5",
   "metadata": {},
   "outputs": [
    {
     "data": {
      "text/plain": [
       "tensor([[-1.2993, -0.1524,  0.7747, -0.4467,  0.3981,  0.3952, -1.1624,  1.2481,\n",
       "          0.5322,  1.3042]], grad_fn=<DivBackward0>)"
      ]
     },
     "execution_count": 91,
     "metadata": {},
     "output_type": "execute_result"
    }
   ],
   "source": [
    "cat_centre_embed = model.embedding_centre_word(cat)\n",
    "cat_outside_embed = model.embedding_outside_word(cat)\n",
    "\n",
    "cat_embed = (cat_centre_embed + cat_outside_embed) / 2\n",
    "cat_embed"
   ]
  },
  {
   "cell_type": "code",
   "execution_count": 92,
   "id": "3496d9af-afeb-4ab9-bd63-02953ac00c9f",
   "metadata": {},
   "outputs": [],
   "source": [
    "def get_embed(word):\n",
    "    try:\n",
    "        index = word2index[word]\n",
    "    except:\n",
    "        index = word2index['<UNK>']\n",
    "    \n",
    "    word = torch.LongTensor([index])\n",
    "\n",
    "    center_embed  = model.embedding_centre_word(word)\n",
    "    outside_embed = model.embedding_outside_word(word)\n",
    "    \n",
    "    embed = (center_embed + outside_embed) / 2\n",
    "    \n",
    "    return  embed[0][0].item(), embed[0][1].item()"
   ]
  },
  {
   "cell_type": "code",
   "execution_count": 93,
   "id": "8e5b05d8-77de-40ac-91a8-2c6224916774",
   "metadata": {},
   "outputs": [
    {
     "name": "stdout",
     "output_type": "stream",
     "text": [
      "(-1.2992620468139648, -0.1523895263671875)\n"
     ]
    }
   ],
   "source": [
    "print(get_embed('cat'))"
   ]
  },
  {
   "cell_type": "code",
   "execution_count": 94,
   "id": "158ab7dc-d2b9-4dd7-929c-7abdacabb0c2",
   "metadata": {},
   "outputs": [
    {
     "data": {
      "image/png": "[encoded data removed]",
      "text/plain": [
       "<Figure size 432x216 with 1 Axes>"
      ]
     },
     "metadata": {
      "needs_background": "light"
     },
     "output_type": "display_data"
    }
   ],
   "source": [
    "plt.figure(figsize=(6,3))\n",
    "for i, word in enumerate(vocabs[:20]): #loop each unique vocab\n",
    "    x, y = get_embed(word)\n",
    "    plt.scatter(x, y)\n",
    "    plt.annotate(word, xy=(x, y), xytext=(5, 2), textcoords='offset points')\n",
    "plt.show()"
   ]
  },
  {
   "cell_type": "markdown",
   "id": "4d9bc342-efb9-4656-8563-2f0850497a41",
   "metadata": {},
   "source": [
    "Comparing both negative and normal skipgram with real corpus, normal uses 3:58 mins but negative uses 3:51 mins, but normal cannot reach epoch of 5000 I am not sure why."
   ]
  },
  {
   "cell_type": "code",
   "execution_count": null,
   "id": "c9e0ccbd-1852-463b-950d-ed5695ad609e",
   "metadata": {},
   "outputs": [],
   "source": []
  },
  {
   "cell_type": "code",
   "execution_count": null,
   "id": "50853349-3712-45ba-a329-56b81b65773f",
   "metadata": {},
   "outputs": [],
   "source": []
  }
 ],
 "metadata": {
  "kernelspec": {
   "display_name": "Python 3 (ipykernel)",
   "language": "python",
   "name": "python3"
  },
  "language_info": {
   "codemirror_mode": {
    "name": "ipython",
    "version": 3
   },
   "file_extension": ".py",
   "mimetype": "text/x-python",
   "name": "python",
   "nbconvert_exporter": "python",
   "pygments_lexer": "ipython3",
   "version": "3.9.7"
  }
 },
 "nbformat": 4,
 "nbformat_minor": 5
}
